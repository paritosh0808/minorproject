{
 "cells": [
  {
   "cell_type": "code",
   "execution_count": 1043,
   "metadata": {},
   "outputs": [],
   "source": [
    "import numpy as np\n",
    "import gensim\n",
    "import string\n",
    "import networkx as nx"
   ]
  },
  {
   "cell_type": "code",
   "execution_count": 1088,
   "metadata": {},
   "outputs": [],
   "source": [
    "dataset=open(\"C:\\\\Users\\\\320052308\\\\minorproject\\\\blood-data-ohmnet\\\\edgelists\\\\neutrophil.edgelist\", 'rb')\n",
    "G=nx.read_edgelist(dataset)\n",
    "nodelist1 = list(G.nodes)"
   ]
  },
  {
   "cell_type": "code",
   "execution_count": 1089,
   "metadata": {},
   "outputs": [
    {
     "name": "stdout",
     "output_type": "stream",
     "text": [
      "['4790', '79155', '154796', '7408', '57154', '3309', '5879', '23568', '1855', '8312', '10206', '396', '10577', '4864', '5604', '8837', '10801', '9217', '5310', '87', '55366', '23310', '149041', '7327', '1432', '2004', '10664', '3146', '56254', '51322', '11051', '3066', '8945', '246184', '51434', '5469', '10014', '7037', '10672', '7046', '26227', '2885', '6602', '64599', '6772', '7852', '2624', '161882', '55832', '1832', '5501', '351', '23081', '3065', '4627', '2074', '6733', '249', '23405', '3329', '3915', '3912', '10933', '3837', '5335', '5921', '9516', '23327', '4869', '498', '1650', '3703', '1019', '1457', '672', '2355', '2887', '1499', '5494', '3275', '6256', '55696', '6729', '10197', '55689', '153090', '8454', '7879', '57403', '22955', '8467', '10987', '8607', '84661', '10565', '5499', '5568', '7319', '1029', '118', '3398', '54822', '22976', '10111', '4771', '6895', '51194', '1810', '1017', '6883', '4734', '6189', '6601', '5978', '1786', '53615', '7157', '2648', '2734', '5966', '11060', '1605', '9113', '10413', '9131', '3303', '11034', '25824', '7957', '5747', '51160', '613', '11236', '3638', '51393', '7442', '4609', '23085', '10252', '868', '8452', '4976', '7415', '51366', '309', '86', '79718', '4193', '4700', '4722', '7322', '2060', '960', '573', '5467', '8202', '23394', '648', '11171', '3654', '3315', '996', '1213', '9181', '54778', '7508', '9612', '9218', '4720', '10049', '10013', '115426', '5788', '5970', '8986', '9978', '3312', '3476', '79840', '26574', '1613', '10458', '55971', '2537', '5566', '1385', '6764', '3320', '5871', '54984', '7430', '5062', '5683', '6303', '8525', '6461', '6714', '5705', '6210', '79084', '4851', '5664', '2932', '8517', '2549', '5829', '3171', '3661', '64750', '4133', '1020', '5516', '10325', '64121', '5333', '801', '5720', '5696', '7358', '983', '5295', '6416', '26276', '23133', '55183', '302', '5130', '9025', '124583', '3622', '3265', '8036', '25836', '5538', '5914', '6477', '2040', '324', '8658', '23411', '5906', '1535', '57332', '10488', '638', '4087', '23557', '6500', '26234', '23295', '55740', '3717', '7324', '11342', '5603', '409', '2212', '6464', '5496', '3925', '5599', '7444', '3064', '83737', '5300', '4303', '5930', '51377', '7295', '6208', '6223', '55128', '22861', '2730', '3665', '7531', '678', '4899', '23126', '5579', '598', '1937', '81559', '22985', '54556', '25855', '6917', '2962', '30827', '80335', '4615', '83706', '79753', '5595', '6548', '79791', '595', '11218', '4678', '5245', '7072', '5108', '55081', '3981', '1278', '10856', '29110', '637', '834', '8766', '5663', '4846', '1153', '7094', '5701', '5693', '6102', '1454', '2771', '5581', '4086', '1967', '26994', '7186', '4088', '8360', '1147', '8717', '1051', '1387', '2067', '6879', '7337', '301', '7184', '10399', '23640', '8725', '55929', '3725', '7443', '6774', '6877', '5594', '3727', '1453', '208', '9545', '4831', '26270', '58533', '9097', '22920', '7132', '8363', '6809', '7428', '23032', '3667', '55023', '10188', '3643', '5580', '23560', '1958', '6647', '79058', '3958', '5781', '81542', '1788', '130557', '1191', '5444', '4651', '805', '2185', '5518', '5768', '3983', '9093', '5371', '11315', '204851', '6257', '56302', '4297', '5607', '6376', '1524', '3326', '6868', '6777', '1969', '2034', '2010', '9043', '4292', '5887', '1831', '4843', '6742', '2547', '57634', '80314', '6886', '11091', '2969', '6199', '5601', '9031', '7251', '3308', '3337', '4683', '3843', '328', '6418', '6598', '55636', '3659', '27346', '6814', '51429', '8976', '4690', '29127', '4294', '9262', '6502', '997', '23580', '10808', '8682', '8772', '9693', '554313', '3621', '9531', '51022', '5530', '207', '5606', '9479', '336', '8694', '83933', '29116', '7334', '23263', '6194', '6871', '2353', '6789', '3801', '10540', '7013', '28988', '79654', '10892', '1956', '6850', '939', '56913', '23515', '54476', '3689', '51454', '8751', '7525', '1856', '8878', '3297', '23291', '1196', '4055', '10155', '5460', '10758', '56652', '6613', '6386', '6804', '23512', '92609', '112869', '9910', '2081', '7529', '51599', '6688', '9994', '6050', '283', '472', '7052', '55967', '408', '8361', '6453', '10755', '23433', '57120', '8365', '6944', '5610', '4830', '5339', '1616', '3276', '8737', '23636', '30001', '2826', '79176', '5716', '8440', '1978', '6249', '10075', '10728', '7189', '9344', '4616', '6732', '5170', '4691', '311', '4282', '5500', '2118', '1965', '1031', '3685', '7040', '4092', '51562', '3091', '7414', '10381', '55294', '975', '4214', '267', '2316', '7532', '10787', '6907', '64219', '6722', '2068', '4436', '4728', '11331', '5290', '7187', '329', '8726', '6934', '7248', '240', '7126', '7494', '8850', '10629', '7832', '57591', '4170', '5094', '5682', '2335', '10432', '5578', '1130', '57060', '7175', '7917', '6275', '23774', '5074', '6523', '9564', '5770', '2033', '6045', '5289', '9219', '7266', '5802', '8834', '54764', '87178', '7249', '8805', '4724', '10425', '1487', '93986', '6778', '102', '8473', '1030', '7709', '3688', '7431', '11143', '2309', '57708', '847', '6786', '27154', '51564', '80331', '10273', '6597', '5536', '3383', '1386', '306', '1540', '142678', '51135', '7001', '11151', '7057', '51720', '22954', '29979', '2241', '2065', '10765', '10919', '9525', '5478', '9448', '6470', '196', '4094', '51257', '7328', '3611', '79888', '80267', '23390', '23392', '7159', '2308', '3304', '5925', '6272', '10542', '10952', '55145', '4090', '7844', '3093', '10928', '5880', '27005', '9101', '7416', '3655', '2908', '348', '7335', '331', '90678', '23522', '675', '578', '5898', '23368', '8359', '6667', '26524', '7528', '5728', '871', '7171', '6286', '51185', '3858', '56943', '56970', '4791', '9588', '123169', '667', '2534', '8877', '1054', '9070', '4067', '836', '7321', '8239', '10452', '2683', '3728', '10572', '27', '1642', '9252', '835', '116113', '55752', '10956', '6314', '8820', '1027', '5771', '10459', '51343', '11130', '51256', '93974', '1739', '23095', '25932', '6498', '51592', '8295', '5928', '9146', '54541', '10818', '4915', '51065', '6188', '8364', '23043', '51111', '9821', '11052', '4076', '8767', '9804', '6015', '51141', '6310', '55072', '8411', '57506', '1198', '405', '56829', '2054', '27230', '7915', '2746', '1270', '150684', '3148', '861', '4085', '51548', '22948', '1072', '8021', '2752', '10114', '8464', '7375', '1475', '9183', '1601', '4763', '6237', '10165', '291', '10379', '9372', '80312', '8315', '7332', '6093', '2023', '4643', '10397', '811', '5936', '8445', '6497', '1857', '10645', '79813', '83852', '5795', '23429', '9191', '864', '10159', '23770', '54840', '1627', '664', '808', '497661', '23212', '4216', '22800', '5900', '5217', '3099', '6720', '56957', '27338', '10444', '5609', '43', '2064', '11030', '7453', '28996', '8773', '23287', '54107', '60485', '2192', '55201', '83547', '4983', '7155', '5292', '4091', '79885', '7818', '7067', '581', '255488', '6259', '2049', '10010', '10972', '7325', '7326', '10616', '27097', '8649', '148281', '8567', '9546', '27248', '51009', '7410', '32', '8367', '1291', '998', '2629', '4792', '4952', '26272', '1365', '9572', '7703', '3956', '83695', '6872', '3043', '928', '961', '3299', '8841', '55083', '4853', '149428', '93649', '7323', '4163', '54205', '23476', '128', '1936', '6792', '23499', '91949', '11124', '10152', '51026', '5119', '1984', '10600', '9913', '57680', '9618', '11059', '5058', '6241', '29945', '2782', '4665', '23481', '25898', '5429', '8078', '539', '373', '9646', '4629', '54926', '966', '5537', '5792', '8301', '55904', '23414', '5515', '4215', '4194', '7168', '6591', '5608', '9184', '6513', '3726', '7041', '7019', '5954', '4628', '2874', '10131', '4089', '10174', '6881', '2896', '9230', '58508', '4710', '25865', '4486', '26058', '10213', '387', '9577', '3516', '55031', '65018', '112398', '10498', '5213', '7026', '51701', '5929', '3672', '5520', '2931', '4077', '2202', '27284', '3845', '989', '572', '54974', '51100', '26130', '22821', '5774', '6655', '55669', '891', '7188', '6794', '26001', '9040', '26973', '9114', '2280', '3832', '6711', '4000', '5296', '81847', '5886', '23236', '10105', '10277', '9611', '29844', '2321', '5782', '6280', '4646', '10253', '10342', '16', '26999', '334', '11104', '22919', '402', '27086', '8924', '9500', '387893', '6885', '23191', '1603', '11160', '22937', '2956', '116143', '8503', '6240', '85458', '8408', '9020', '51619', '22882', '9049', '51755', '5395', '148022', '9255', '604', '7398', '11128', '10623', '10621', '8370', '9690', '7164', '5524', '23318', '5598', '353376', '55159', '5211', '4478', '5316', '6929', '2011', '23303', '5585', '9079', '8930', '11284', '929', '9156', '23326', '10580', '10494', '5783', '10460', '84919', '10163', '26060', '3397', '2954', '818', '151636', '57142', '5451', '3251', '3163', '8861', '81929', '4860', '2059', '10270', '222484', '64783', '6615', '9133', '7048', '10477', '3840', '1195', '253980', '51119', '5908', '9757', '1643', '8613', '3092', '4205', '7392', '22836', '6648', '2494', '8943', '79577', '55958', '6198', '391', '2277', '8754', '10527', '30844', '27429', '10087', '5587', '5721', '5287', '54872', '1798', '51474', '26013', '90780', '10579', '3280', '8813', '54623', '399', '8892', '10902', '20', '54880', '84759', '6515', '23304', '55284', '9474', '9445', '197131', '55352', '128239', '23162', '4221', '48', '84447', '4644', '2889', '4218', '10938', '79576', '10766', '5836', '91', '3300', '538', '8366', '23338', '403', '10116', '9846', '323', '23028', '10783', '4780', '7422', '780', '64786', '5868', '8891', '3182', '1032', '9451', '7205', '5791', '406', '9670', '54431', '9695', '7518', '662', '3875', '5911', '2688', '320', '79594', '6901', '4041', '23705', '5352', '23075', '10628', '6095', '5052', '79184', '54602', '6047', '5291', '10062', '3612', '8539', '842', '64428', '23186', '2590', '5265', '6672', '25998', '51529', '64682', '1942', '3029', '2997', '3708', '114609', '100137049', '8625', '23299', '4217', '1874', '85363', '51231', '3936', '7163', '51773', '58526', '7018', '4331', '23189', '7341', '9253', '3396', '10939', '10725', '2071', '8493', '64216', '285464', '23633', '3838', '5364', '80762', '2768', '6717', '1676', '5413', '23542', '81844', '1500', '473', '54106', '81622', '158', '79631', '92', '10051', '23787', '7419', '9444', '1441', '10497', '8881', '9727', '2625', '1429', '7178', '1292', '6574', '25847', '8697', '8829', '4824', '2946', '4040', '51499', '7096', '374291', '488', '241', '8362', '25937', '6284', '3720', '8294', '5525', '8313', '22933', '112939', '93100', '3579', '6196', '4318', '10626', '23049', '5025', '23534', '64798', '5423', '8867', '9092', '9918', '64151', '389', '10869', '382', '10592', '9368', '10935', '23673', '7100', '55819', '10613', '26520', '55600', '10848', '27339', '9826', '56993', '5154', '567', '5018', '23513', '2045', '85365', '22872', '7030', '5830', '5828', '2947', '55715', '394', '6880', '84168', '26271', '2950', '665', '1495', '51144', '80829', '80020', '5991', '896', '7050', '1028', '54910', '27018', '8795', '210', '1119', '31', '8476', '23592', '8985', '4048', '7391', '23087', '121504', '10522', '2898', '6845', '5268', '9270', '4204', '51196', '79595', '6737', '54820', '10210', '3364', '26258', '55236', '5621', '23210', '7421', '8089', '2778', '10228', '6890', '92140', '6009', '9367', '57396', '7342', '10487', '56940', '27032', '29965', '8646', '23047', '8527', '85440', '1909', '392', '4659', '9604', '57669', '491', '2139', '2305', '51552', '8092', '6654', '8775', '54471', '5796', '11186', '54206', '283489', '55503', '4296', '1104', '23759', '25923', '22900', '3557', '5915', '10059', '29115', '4953', '2022', '7043', '5873', '8604', '11326', '55432', '10769', '5442', '9950', '2941', '23071', '91404', '1718', '51752', '5831', '127933', '11047', '2736', '5033', '23077', '1622', '11176', '8915', '9767', '57630', '58190', '7862', '25999', '7161', '1289', '23509', '165918', '579', '79139', '8396', '5527', '8651', '553115', '5307', '949', '54708', '7716', '8085', '5176', '29882', '51433', '51283', '1840', '5775', '6599', '22853', '2776', '6903', '6904', '2626', '59272', '10076', '3949', '5654', '29072', '5660', '80854', '1845', '55703', '23139', '5140', '6670', '79960', '506', '3984', '6103', '5147', '23741', '6623', '5899', '5797', '11076', '100', '57048', '9361', '11120', '8879', '23184', '6558', '7376', '2584', '8893', '123879', '2548', '7402', '57448', '30009', '29843', '54795', '55705', '8650', '7423', '55743', '1510', '10193', '29117', '8546', '23370', '57646', '8890', '340061', '54862', '1511', '4035', '2934', '694', '7267', '5801', '220972', '54904', '2189', '2948', '114803', '34', '2119', '22893', '4437', '29108', '3572', '10393', '4775', '1001', '540', '54850', '8563', '26469', '1729', '56655', '64215', '162989', '23376', '5286', '54927', '5867', '51024', '10782', '51455', '2131', '5311', '84231', '9867', '11344', '9935', '3913', '84619', '8416', '133746', '84901', '4361', '90', '84817', '9341', '6404', '57045', '652', '3675', '3040', '4850', '26277', '11285', '9619', '2805', '140576', '7786', '375790', '11033', '5692', '25970', '55361', '80824', '585', '9371', '80351', '57447', '55856', '1666', '9213', '25939', '84282', '4520', '1728', '56984', '2767', '899', '23624', '81565', '150094', '54583', '81930', '6812', '22862', '11188', '27236', '51147', '3669', '7320', '5916', '51162', '4358', '115703', '51466', '23161', '201595', '54344', '6905', '4968', '64802', '641', '4189', '5045', '4688', '81576', '79831', '27252', '2539', '7071', '55250', '26610', '64805', '182', '26133', '25813', '83871', '3849', '7468', '55075', '25805', '8368', '5048', '5195', '84159', '5351', '10908', '55327', '55240', '3073', '8738', '6646', '80781', '6651', '130507', '2634', '3687', '1105', '80856', '617', '54929', '8575', '84335', '57092', '284217', '7025', '9810', '546', '676', '2739', '57706', '91147', '5912', '2281', '84876', '5819', '25945', '27102', '3954', '64112', '8314', '51079', '54843', '10370', '64422', '2145', '11221', '9557', '79736', '252983', '284110', '27113', '29937', '4725', '7070', '9927', '541468', '80005', '1536', '2186', '54902', '22894', '7472', '51621', '1490', '8654', '2072', '25820', '54434', '5862', '51067', '659', '9616', '11328', '4353', '3576', '11040', '677', '6182', '83548', '9324', '1062', '57610', '54332', '7225', '23011', '1760', '6251', '51684', '51667', '9464', '2150', '56950', '1997', '116985', '10299', '3624', '64399', '51347', '5641', '9943', '7105', '5780', '26191', '8741', '10564', '55326', '7763', '4650', '22930', '92610', '59307', '3707', '23409', '64324', '57620', '10449', '9076', '10221', '4534', '7466', '6049', '8425', '80725', '26286', '1880', '50488', '375056', '85476', '3681', '81858', '55109', '653519', '58488', '1849', '2530', '4247', '2591', '84444', '3684', '24145', '135', '51763', '2073', '388', '1893', '1906', '63916', '63826', '23654', '9655', '64083', '55004', '6832', '1471', '8322', '9855', '51330', '5191', '3257', '7270', '56923', '1129', '55500', '3240', '54968', '57679', '4891', '92912', '2140', '55154', '2876', '1464', '85464', '11135', '51523', '2920', '163126', '623', '10201', '23129', '112574', '889', '147912', '22809', '54496', '8907', '2729', '56998', '56262', '5870', '114822', '51181', '79661', '59338', '83439', '10507', '5532', '8609', '1991', '64854', '54977', '1512', '79077', '57026', '27352', '79017', '1848', '57178', '3931', '7077', '5194', '9353', '27141', '81846', '632', '10652', '23598', '8398', '9536', '223', '10622', '3911', '6002', '7220', '10670', '4257', '2645', '1730', '57551', '23348', '26119', '1979', '10316', '3417', '57325', '283149', '9903', '64130', '7374', '51099', '57104', '4664', '55614', '657', '353174', '60436', '347734', '1174', '10437', '3039', '58487', '57153', '79158', '140885', '201161', '2914', '6487', '4054', '8394', '3627', '1355', '3141', '2921', '23424', '54899', '8818', '26224', '4681', '29', '84079', '3491', '57826', '972', '6609', '6283', '11325', '3431', '10156', '9960', '83605', '23765', '4059', '2395', '60682', '2744', '30851', '4240', '64285', '28962', '239', '1604', '5817', '5818', '50511', '65981', '64754', '3714', '23649', '3202', '4211', '11343', '51378', '89122', '8897', '55650', '2209', '3082', '30845', '728', '6484', '5155', '27242', '1611', '165140', '26519', '754', '2747', '134', '222068', '57099', '56246', '55471', '63971', '9145', '23406', '9828', '5443', '8763', '64398', '566', '51379', '84340', '55624', '661', '2589', '10272', '3357', '84883', '8611', '23175', '8727', '79133', '284', '59277', '3992', '2542', '2702', '149951', '1232', '7857', '51076', '54962', '129138', '4283', '63924', '9220', '10296', '51738', '4124', '3108', '8273', '55357', '79053', '10106', '9053', '10955', '10899', '7148', '27035', '26297', '127281', '7941', '6683', '79872', '23308', '124641', '1120', '3975', '10998', '150290', '4781', '55627', '55160', '51246', '353116', '3340', '10347', '9856', '3818', '9683', '9048', '26000', '4258', '9263', '80381', '163702', '25976', '285381', '84524']\n"
     ]
    }
   ],
   "source": [
    "print((nodelist1))"
   ]
  },
  {
   "cell_type": "code",
   "execution_count": 1090,
   "metadata": {},
   "outputs": [
    {
     "name": "stdout",
     "output_type": "stream",
     "text": [
      "Loaded 2025 node vectors.\n"
     ]
    }
   ],
   "source": [
    "embeddings_index1 = dict()\n",
    "f = open(\"C:\\\\Users\\\\320052308\\\\minorproject\\\\embeddings\\\\independent\\\\node2vec\\\\neutrophil.embeddings\",encoding=\"utf8\")\n",
    "line1 = f.readline()\n",
    "vecs1 = int(line1.split()[0])\n",
    "dims1 = int(line1.split()[1])\n",
    "for line in f:\n",
    "    values = line.split()\n",
    "    geneid = values[0]\n",
    "    coefs = np.asarray(values[1:], dtype='float32')\n",
    "    embeddings_index1[geneid] = coefs\n",
    "f.close()\n",
    "print('Loaded %s node vectors.' % len(embeddings_index1))\n",
    "\n",
    "#print(embeddings_index1)"
   ]
  },
  {
   "cell_type": "code",
   "execution_count": 1091,
   "metadata": {},
   "outputs": [
    {
     "name": "stdout",
     "output_type": "stream",
     "text": [
      "[[ 0.0420443  -0.02608267  0.42032436 ... -0.00693114 -0.16090323\n",
      "  -0.28204498]\n",
      " [ 0.12808201  0.52395898  0.11463754 ...  0.05011927  0.03462606\n",
      "  -0.24350314]\n",
      " [-0.14819229  0.24954517  0.16186795 ...  0.11310942 -0.28225794\n",
      "  -0.18624046]\n",
      " ...\n",
      " [-0.16235024  0.23986469  0.02086055 ... -0.0591935   0.21018228\n",
      "  -0.13888136]\n",
      " [ 0.11930748  0.03940047  0.12711127 ... -0.04807102  0.13915332\n",
      "  -0.02139526]\n",
      " [-0.0290811   0.13681936  0.06943955 ... -0.00966877  0.10743595\n",
      "  -0.04957994]]\n"
     ]
    }
   ],
   "source": [
    "embedding_matrix1 = np.zeros((vecs1, dims1))\n",
    "\n",
    "for i in range(len(nodelist1)):\n",
    "    embedding_matrix1[i]=embeddings_index1[nodelist1[i]]\n",
    "#print(embedding_matrix.shape)\n",
    "print(embedding_matrix1)"
   ]
  },
  {
   "cell_type": "code",
   "execution_count": 1092,
   "metadata": {
    "scrolled": false
   },
   "outputs": [
    {
     "name": "stdout",
     "output_type": "stream",
     "text": [
      "Loaded 2554 node vectors.\n"
     ]
    }
   ],
   "source": [
    "nodelist2 = []\n",
    "embeddings_index2 = dict()\n",
    "f = open(\"C:\\\\Users\\\\320052308\\\\minorproject\\\\embeddings\\\\ohmnet\\\\myeloid_internal_vectors.embedding\",encoding=\"utf8\")\n",
    "line1 = f.readline()\n",
    "vecs2 = int(line1.split()[0])\n",
    "dims2 = int(line1.split()[1])\n",
    "for line in f:\n",
    "    values = line.split()\n",
    "    geneid = values[0]\n",
    "    nodelist2.append(geneid)\n",
    "    coefs = np.asarray(values[1:], dtype='float32')\n",
    "    embeddings_index2[geneid] = coefs\n",
    "f.close()\n",
    "print('Loaded %s node vectors.' % len(embeddings_index2))"
   ]
  },
  {
   "cell_type": "code",
   "execution_count": 1093,
   "metadata": {},
   "outputs": [
    {
     "name": "stdout",
     "output_type": "stream",
     "text": [
      "2554\n"
     ]
    }
   ],
   "source": [
    "print(len(nodelist2))"
   ]
  },
  {
   "cell_type": "code",
   "execution_count": 1094,
   "metadata": {},
   "outputs": [
    {
     "name": "stdout",
     "output_type": "stream",
     "text": [
      "[[ 8.37652478e-03  9.72018763e-02  1.18844556e-02 ... -5.66648953e-02\n",
      "   1.07660033e-01  1.41709102e-02]\n",
      " [ 2.04956941e-05  5.59460372e-03  6.48029847e-04 ... -3.98889044e-03\n",
      "   6.39756070e-03  1.16273481e-03]\n",
      " [ 2.54965872e-02  1.68453649e-01  1.59898102e-02 ... -4.52733710e-02\n",
      "   1.28852919e-01  2.21839435e-02]\n",
      " ...\n",
      " [ 2.92076804e-02  2.30624631e-01  2.50824280e-02 ... -8.62478465e-02\n",
      "   2.00869322e-01  3.02866716e-02]\n",
      " [ 2.51965337e-02  2.06830814e-01  2.12405045e-02 ... -7.93245062e-02\n",
      "   1.82541981e-01  2.81748679e-02]\n",
      " [ 4.41624178e-03  1.05970643e-01  1.30720735e-02 ... -7.59436116e-02\n",
      "   1.30178511e-01  1.72022451e-02]]\n"
     ]
    }
   ],
   "source": [
    "embedding_matrix2 = np.zeros((vecs2, dims2))\n",
    "\n",
    "for i in range(len(nodelist2)):\n",
    "    embedding_matrix2[i]=embeddings_index2[nodelist2[i]]\n",
    "#print(embedding_matrix.shape)\n",
    "print(embedding_matrix2)"
   ]
  },
  {
   "cell_type": "code",
   "execution_count": 1095,
   "metadata": {},
   "outputs": [
    {
     "name": "stdout",
     "output_type": "stream",
     "text": [
      "Loaded 2554 node vectors.\n"
     ]
    }
   ],
   "source": [
    "nodelist3 = []\n",
    "embeddings_index3 = dict()\n",
    "f = open(\"C:\\\\Users\\\\320052308\\\\minorproject\\\\embeddings\\\\ohmnet\\\\myeloblast_internal_vectors.embedding\",encoding=\"utf8\")\n",
    "line1 = f.readline()\n",
    "vecs3 = int(line1.split()[0])\n",
    "dims3 = int(line1.split()[1])\n",
    "for line in f:\n",
    "    values = line.split()\n",
    "    geneid = values[0]\n",
    "    nodelist3.append(geneid)\n",
    "    coefs = np.asarray(values[1:], dtype='float32')\n",
    "    embeddings_index3[geneid] = coefs\n",
    "f.close()\n",
    "print('Loaded %s node vectors.' % len(embeddings_index3))"
   ]
  },
  {
   "cell_type": "code",
   "execution_count": 1096,
   "metadata": {},
   "outputs": [
    {
     "name": "stdout",
     "output_type": "stream",
     "text": [
      "['myeloblast_NODE__55614', 'myeloblast_NODE__55612', 'myeloblast_NODE__55342', 'myeloblast_NODE__55611', 'myeloblast_NODE__27284', 'myeloblast_NODE__28996', 'myeloblast_NODE__4023', 'myeloblast_NODE__84919', 'myeloblast_NODE__10899', 'myeloblast_NODE__55294', 'myeloblast_NODE__5983', 'myeloblast_NODE__341', 'myeloblast_NODE__51065', 'myeloblast_NODE__3996', 'myeloblast_NODE__8694', 'myeloblast_NODE__348', 'myeloblast_NODE__3992', 'myeloblast_NODE__7518', 'myeloblast_NODE__165918', 'myeloblast_NODE__51283', 'myeloblast_NODE__55904', 'myeloblast_NODE__961', 'myeloblast_NODE__6794', 'myeloblast_NODE__6792', 'myeloblast_NODE__4734', 'myeloblast_NODE__2316', 'myeloblast_NODE__84869', 'myeloblast_NODE__3683', 'myeloblast_NODE__85458', 'myeloblast_NODE__291', 'myeloblast_NODE__4651', 'myeloblast_NODE__4650', 'myeloblast_NODE__3684', 'myeloblast_NODE__4659', 'myeloblast_NODE__57617', 'myeloblast_NODE__57610', 'myeloblast_NODE__30845', 'myeloblast_NODE__6478', 'myeloblast_NODE__2268', 'myeloblast_NODE__51111', 'myeloblast_NODE__81622', 'myeloblast_NODE__81620', 'myeloblast_NODE__51119', 'myeloblast_NODE__7884', 'myeloblast_NODE__9525', 'myeloblast_NODE__9527', 'myeloblast_NODE__9252', 'myeloblast_NODE__9521', 'myeloblast_NODE__3690', 'myeloblast_NODE__7862', 'myeloblast_NODE__81858', 'myeloblast_NODE__102', 'myeloblast_NODE__100', 'myeloblast_NODE__57187', 'myeloblast_NODE__2047', 'myeloblast_NODE__2045', 'myeloblast_NODE__2043', 'myeloblast_NODE__2040', 'myeloblast_NODE__79813', 'myeloblast_NODE__2049', 'myeloblast_NODE__9412', 'myeloblast_NODE__57506', 'myeloblast_NODE__10892', 'myeloblast_NODE__10632', 'myeloblast_NODE__6376', 'myeloblast_NODE__2734', 'myeloblast_NODE__10413', 'myeloblast_NODE__54556', 'myeloblast_NODE__54880', 'myeloblast_NODE__10419', 'myeloblast_NODE__83871', 'myeloblast_NODE__11128', 'myeloblast_NODE__4843', 'myeloblast_NODE__22872', 'myeloblast_NODE__9612', 'myeloblast_NODE__9324', 'myeloblast_NODE__8943', 'myeloblast_NODE__8945', 'myeloblast_NODE__7267', 'myeloblast_NODE__7266', 'myeloblast_NODE__3516', 'myeloblast_NODE__2688', 'myeloblast_NODE__6208', 'myeloblast_NODE__2683', 'myeloblast_NODE__54778', 'myeloblast_NODE__6809', 'myeloblast_NODE__5292', 'myeloblast_NODE__6804', 'myeloblast_NODE__5293', 'myeloblast_NODE__5290', 'myeloblast_NODE__10565', 'myeloblast_NODE__10564', 'myeloblast_NODE__91', 'myeloblast_NODE__1432', 'myeloblast_NODE__92', 'myeloblast_NODE__51067', 'myeloblast_NODE__1991', 'myeloblast_NODE__1622', 'myeloblast_NODE__1627', 'myeloblast_NODE__3202', 'myeloblast_NODE__1997', 'myeloblast_NODE__5189', 'myeloblast_NODE__9184', 'myeloblast_NODE__9935', 'myeloblast_NODE__5058', 'myeloblast_NODE__8837', 'myeloblast_NODE__285440', 'myeloblast_NODE__2864', 'myeloblast_NODE__558', 'myeloblast_NODE__29965', 'myeloblast_NODE__151636', 'myeloblast_NODE__1198', 'myeloblast_NODE__1191', 'myeloblast_NODE__7075', 'myeloblast_NODE__3340', 'myeloblast_NODE__7077', 'myeloblast_NODE__1195', 'myeloblast_NODE__7071', 'myeloblast_NODE__7072', 'myeloblast_NODE__1196', 'myeloblast_NODE__1874', 'myeloblast_NODE__4258', 'myeloblast_NODE__1174', 'myeloblast_NODE__23509', 'myeloblast_NODE__23054', 'myeloblast_NODE__4254', 'myeloblast_NODE__4257', 'myeloblast_NODE__5532', 'myeloblast_NODE__5530', 'myeloblast_NODE__5537', 'myeloblast_NODE__5536', 'myeloblast_NODE__5538', 'myeloblast_NODE__58526', 'myeloblast_NODE__8725', 'myeloblast_NODE__11160', 'myeloblast_NODE__91662', 'myeloblast_NODE__1002', 'myeloblast_NODE__7188', 'myeloblast_NODE__7189', 'myeloblast_NODE__8767', 'myeloblast_NODE__8766', 'myeloblast_NODE__1001', 'myeloblast_NODE__8763', 'myeloblast_NODE__7184', 'myeloblast_NODE__29104', 'myeloblast_NODE__7186', 'myeloblast_NODE__7187', 'myeloblast_NODE__623', 'myeloblast_NODE__130507', 'myeloblast_NODE__51474', 'myeloblast_NODE__54471', 'myeloblast_NODE__8546', 'myeloblast_NODE__8542', 'myeloblast_NODE__7453', 'myeloblast_NODE__7450', 'myeloblast_NODE__5621', 'myeloblast_NODE__8493', 'myeloblast_NODE__406', 'myeloblast_NODE__405', 'myeloblast_NODE__403', 'myeloblast_NODE__402', 'myeloblast_NODE__23299', 'myeloblast_NODE__23295', 'myeloblast_NODE__25942', 'myeloblast_NODE__25945', 'myeloblast_NODE__23291', 'myeloblast_NODE__408', 'myeloblast_NODE__23476', 'myeloblast_NODE__3837', 'myeloblast_NODE__3832', 'myeloblast_NODE__55627', 'myeloblast_NODE__10965', 'myeloblast_NODE__55625', 'myeloblast_NODE__55624', 'myeloblast_NODE__84901', 'myeloblast_NODE__5997', 'myeloblast_NODE__4035', 'myeloblast_NODE__4038', 'myeloblast_NODE__23279', 'myeloblast_NODE__10482', 'myeloblast_NODE__28988', 'myeloblast_NODE__28989', 'myeloblast_NODE__51272', 'myeloblast_NODE__84248', 'myeloblast_NODE__7525', 'myeloblast_NODE__51076', 'myeloblast_NODE__8295', 'myeloblast_NODE__7528', 'myeloblast_NODE__7529', 'myeloblast_NODE__55752', 'myeloblast_NODE__55023', 'myeloblast_NODE__6533', 'myeloblast_NODE__55240', 'myeloblast_NODE__51291', 'myeloblast_NODE__94234', 'myeloblast_NODE__392', 'myeloblast_NODE__391', 'myeloblast_NODE__396', 'myeloblast_NODE__394', 'myeloblast_NODE__128869', 'myeloblast_NODE__399', 'myeloblast_NODE__2309', 'myeloblast_NODE__2308', 'myeloblast_NODE__10972', 'myeloblast_NODE__114548', 'myeloblast_NODE__4728', 'myeloblast_NODE__6786', 'myeloblast_NODE__6789', 'myeloblast_NODE__4724', 'myeloblast_NODE__84876', 'myeloblast_NODE__2305', 'myeloblast_NODE__4720', 'myeloblast_NODE__4722', 'myeloblast_NODE__27141', 'myeloblast_NODE__51619', 'myeloblast_NODE__253725', 'myeloblast_NODE__11285', 'myeloblast_NODE__11284', 'myeloblast_NODE__55589', 'myeloblast_NODE__56829', 'myeloblast_NODE__64112', 'myeloblast_NODE__241', 'myeloblast_NODE__240', 'myeloblast_NODE__4627', 'myeloblast_NODE__4628', 'myeloblast_NODE__4629', 'myeloblast_NODE__249', 'myeloblast_NODE__25988', 'myeloblast_NODE__2274', 'myeloblast_NODE__2277', 'myeloblast_NODE__56243', 'myeloblast_NODE__140885', 'myeloblast_NODE__57669', 'myeloblast_NODE__10800', 'myeloblast_NODE__51100', 'myeloblast_NODE__9767', 'myeloblast_NODE__9536', 'myeloblast_NODE__57403', 'myeloblast_NODE__353116', 'myeloblast_NODE__9531', 'myeloblast_NODE__7852', 'myeloblast_NODE__56913', 'myeloblast_NODE__7857', 'myeloblast_NODE__219333', 'myeloblast_NODE__177', 'myeloblast_NODE__199', 'myeloblast_NODE__2054', 'myeloblast_NODE__2057', 'myeloblast_NODE__2059', 'myeloblast_NODE__4824', 'myeloblast_NODE__10628', 'myeloblast_NODE__10629', 'myeloblast_NODE__6369', 'myeloblast_NODE__4983', 'myeloblast_NODE__26039', 'myeloblast_NODE__10621', 'myeloblast_NODE__10622', 'myeloblast_NODE__10623', 'myeloblast_NODE__10626', 'myeloblast_NODE__57060', 'myeloblast_NODE__10152', 'myeloblast_NODE__10401', 'myeloblast_NODE__10156', 'myeloblast_NODE__53615', 'myeloblast_NODE__10155', 'myeloblast_NODE__10409', 'myeloblast_NODE__10159', 'myeloblast_NODE__22800', 'myeloblast_NODE__10393', 'myeloblast_NODE__10397', 'myeloblast_NODE__22809', 'myeloblast_NODE__10399', 'myeloblast_NODE__116113', 'myeloblast_NODE__54968', 'myeloblast_NODE__54962', 'myeloblast_NODE__149041', 'myeloblast_NODE__1977', 'myeloblast_NODE__6210', 'myeloblast_NODE__55832', 'myeloblast_NODE__659', 'myeloblast_NODE__84067', 'myeloblast_NODE__54984', 'myeloblast_NODE__54982', 'myeloblast_NODE__6811', 'myeloblast_NODE__6813', 'myeloblast_NODE__6812', 'myeloblast_NODE__6814', 'myeloblast_NODE__6817', 'myeloblast_NODE__83595', 'myeloblast_NODE__9757', 'myeloblast_NODE__10579', 'myeloblast_NODE__10577', 'myeloblast_NODE__10572', 'myeloblast_NODE__7324', 'myeloblast_NODE__7325', 'myeloblast_NODE__7326', 'myeloblast_NODE__7327', 'myeloblast_NODE__7320', 'myeloblast_NODE__7321', 'myeloblast_NODE__7322', 'myeloblast_NODE__7323', 'myeloblast_NODE__1616', 'myeloblast_NODE__1965', 'myeloblast_NODE__58190', 'myeloblast_NODE__1967', 'myeloblast_NODE__5191', 'myeloblast_NODE__1613', 'myeloblast_NODE__1611', 'myeloblast_NODE__27000', 'myeloblast_NODE__8841', 'myeloblast_NODE__2876', 'myeloblast_NODE__2874', 'myeloblast_NODE__2878', 'myeloblast_NODE__3357', 'myeloblast_NODE__3356', 'myeloblast_NODE__54344', 'myeloblast_NODE__8851', 'myeloblast_NODE__79017', 'myeloblast_NODE__7067', 'myeloblast_NODE__5442', 'myeloblast_NODE__5444', 'myeloblast_NODE__79139', 'myeloblast_NODE__1760', 'myeloblast_NODE__83605', 'myeloblast_NODE__1788', 'myeloblast_NODE__143187', 'myeloblast_NODE__80204', 'myeloblast_NODE__1147', 'myeloblast_NODE__23049', 'myeloblast_NODE__8625', 'myeloblast_NODE__23512', 'myeloblast_NODE__79631', 'myeloblast_NODE__23515', 'myeloblast_NODE__26100', 'myeloblast_NODE__5500', 'myeloblast_NODE__5501', 'myeloblast_NODE__1545', 'myeloblast_NODE__694', 'myeloblast_NODE__695', 'myeloblast_NODE__58533', 'myeloblast_NODE__83737', 'myeloblast_NODE__540', 'myeloblast_NODE__27306', 'myeloblast_NODE__546', 'myeloblast_NODE__8717', 'myeloblast_NODE__29110', 'myeloblast_NODE__29116', 'myeloblast_NODE__29979', 'myeloblast_NODE__29115', 'myeloblast_NODE__23601', 'myeloblast_NODE__8539', 'myeloblast_NODE__5287', 'myeloblast_NODE__8531', 'myeloblast_NODE__9984', 'myeloblast_NODE__8021', 'myeloblast_NODE__7443', 'myeloblast_NODE__7442', 'myeloblast_NODE__7444', 'myeloblast_NODE__2266', 'myeloblast_NODE__5610', 'myeloblast_NODE__55109', 'myeloblast_NODE__27032', 'myeloblast_NODE__1385', 'myeloblast_NODE__1386', 'myeloblast_NODE__1387', 'myeloblast_NODE__90', 'myeloblast_NODE__23287', 'myeloblast_NODE__3827', 'myeloblast_NODE__10213', 'myeloblast_NODE__3820', 'myeloblast_NODE__10212', 'myeloblast_NODE__55326', 'myeloblast_NODE__55327', 'myeloblast_NODE__65981', 'myeloblast_NODE__8445', 'myeloblast_NODE__9156', 'myeloblast_NODE__8440', 'myeloblast_NODE__23263', 'myeloblast_NODE__4282', 'myeloblast_NODE__4283', 'myeloblast_NODE__6874', 'myeloblast_NODE__4286', 'myeloblast_NODE__51599', 'myeloblast_NODE__369', 'myeloblast_NODE__55740', 'myeloblast_NODE__7536', 'myeloblast_NODE__7531', 'myeloblast_NODE__7533', 'myeloblast_NODE__7532', 'myeloblast_NODE__9255', 'myeloblast_NODE__55250', 'myeloblast_NODE__55929', 'myeloblast_NODE__9253', 'myeloblast_NODE__382', 'myeloblast_NODE__387', 'myeloblast_NODE__388', 'myeloblast_NODE__389', 'myeloblast_NODE__64854', 'myeloblast_NODE__6778', 'myeloblast_NODE__51621', 'myeloblast_NODE__6774', 'myeloblast_NODE__10987', 'myeloblast_NODE__6777', 'myeloblast_NODE__6772', 'myeloblast_NODE__5873', 'myeloblast_NODE__5870', 'myeloblast_NODE__5871', 'myeloblast_NODE__9960', 'myeloblast_NODE__5874', 'myeloblast_NODE__27154', 'myeloblast_NODE__5879', 'myeloblast_NODE__9968', 'myeloblast_NODE__55366', 'myeloblast_NODE__1072', 'myeloblast_NODE__60485', 'myeloblast_NODE__10188', 'myeloblast_NODE__22900', 'myeloblast_NODE__2192', 'myeloblast_NODE__55819', 'myeloblast_NODE__5465', 'myeloblast_NODE__2202', 'myeloblast_NODE__64581', 'myeloblast_NODE__2205', 'myeloblast_NODE__2207', 'myeloblast_NODE__2208', 'myeloblast_NODE__2209', 'myeloblast_NODE__57679', 'myeloblast_NODE__6688', 'myeloblast_NODE__51135', 'myeloblast_NODE__6683', 'myeloblast_NODE__63916', 'myeloblast_NODE__9500', 'myeloblast_NODE__79831', 'myeloblast_NODE__6272', 'myeloblast_NODE__7844', 'myeloblast_NODE__166', 'myeloblast_NODE__54795', 'myeloblast_NODE__6356', 'myeloblast_NODE__3689', 'myeloblast_NODE__3688', 'myeloblast_NODE__4831', 'myeloblast_NODE__4830', 'myeloblast_NODE__3681', 'myeloblast_NODE__3687', 'myeloblast_NODE__3685', 'myeloblast_NODE__4520', 'myeloblast_NODE__6194', 'myeloblast_NODE__6196', 'myeloblast_NODE__64924', 'myeloblast_NODE__6198', 'myeloblast_NODE__6199', 'myeloblast_NODE__9616', 'myeloblast_NODE__9341', 'myeloblast_NODE__2736', 'myeloblast_NODE__9344', 'myeloblast_NODE__9611', 'myeloblast_NODE__5296', 'myeloblast_NODE__10165', 'myeloblast_NODE__5295', 'myeloblast_NODE__10163', 'myeloblast_NODE__2739', 'myeloblast_NODE__9618', 'myeloblast_NODE__5291', 'myeloblast_NODE__64324', 'myeloblast_NODE__57092', 'myeloblast_NODE__9183', 'myeloblast_NODE__9181', 'myeloblast_NODE__5054', 'myeloblast_NODE__83852', 'myeloblast_NODE__5052', 'myeloblast_NODE__57099', 'myeloblast_NODE__1810', 'myeloblast_NODE__54974', 'myeloblast_NODE__84079', 'myeloblast_NODE__7205', 'myeloblast_NODE__81542', 'myeloblast_NODE__6223', 'myeloblast_NODE__10763', 'myeloblast_NODE__10765', 'myeloblast_NODE__5468', 'myeloblast_NODE__10766', 'myeloblast_NODE__10769', 'myeloblast_NODE__54407', 'myeloblast_NODE__112939', 'myeloblast_NODE__4952', 'myeloblast_NODE__1153', 'myeloblast_NODE__9765', 'myeloblast_NODE__673', 'myeloblast_NODE__10507', 'myeloblast_NODE__7337', 'myeloblast_NODE__7335', 'myeloblast_NODE__7334', 'myeloblast_NODE__7332', 'myeloblast_NODE__1979', 'myeloblast_NODE__1978', 'myeloblast_NODE__1601', 'myeloblast_NODE__1603', 'myeloblast_NODE__1605', 'myeloblast_NODE__1604', 'myeloblast_NODE__808', 'myeloblast_NODE__801', 'myeloblast_NODE__8850', 'myeloblast_NODE__805', 'myeloblast_NODE__6310', 'myeloblast_NODE__3320', 'myeloblast_NODE__10210', 'myeloblast_NODE__3326', 'myeloblast_NODE__80824', 'myeloblast_NODE__3329', 'myeloblast_NODE__80829', 'myeloblast_NODE__5478', 'myeloblast_NODE__347734', 'myeloblast_NODE__7059', 'myeloblast_NODE__5272', 'myeloblast_NODE__323', 'myeloblast_NODE__7052', 'myeloblast_NODE__7050', 'myeloblast_NODE__10189', 'myeloblast_NODE__7057', 'myeloblast_NODE__9958', 'myeloblast_NODE__23071', 'myeloblast_NODE__23077', 'myeloblast_NODE__23075', 'myeloblast_NODE__6993', 'myeloblast_NODE__5518', 'myeloblast_NODE__5515', 'myeloblast_NODE__5516', 'myeloblast_NODE__29127', 'myeloblast_NODE__25898', 'myeloblast_NODE__59', 'myeloblast_NODE__3039', 'myeloblast_NODE__54', 'myeloblast_NODE__3030', 'myeloblast_NODE__11104', 'myeloblast_NODE__2997', 'myeloblast_NODE__83700', 'myeloblast_NODE__83706', 'myeloblast_NODE__6416', 'myeloblast_NODE__539', 'myeloblast_NODE__538', 'myeloblast_NODE__23673', 'myeloblast_NODE__8036', 'myeloblast_NODE__10381', 'myeloblast_NODE__51', 'myeloblast_NODE__7341', 'myeloblast_NODE__5729', 'myeloblast_NODE__5604', 'myeloblast_NODE__5607', 'myeloblast_NODE__5606', 'myeloblast_NODE__5601', 'myeloblast_NODE__5603', 'myeloblast_NODE__51451', 'myeloblast_NODE__5609', 'myeloblast_NODE__5608', 'myeloblast_NODE__8525', 'myeloblast_NODE__11034', 'myeloblast_NODE__11033', 'myeloblast_NODE__11030', 'myeloblast_NODE__6513', 'myeloblast_NODE__6515', 'myeloblast_NODE__1399', 'myeloblast_NODE__1901', 'myeloblast_NODE__1390', 'myeloblast_NODE__127281', 'myeloblast_NODE__23499', 'myeloblast_NODE__3815', 'myeloblast_NODE__3818', 'myeloblast_NODE__8454', 'myeloblast_NODE__8452', 'myeloblast_NODE__8451', 'myeloblast_NODE__8450', 'myeloblast_NODE__23705', 'myeloblast_NODE__6426', 'myeloblast_NODE__27018', 'myeloblast_NODE__4294', 'myeloblast_NODE__4297', 'myeloblast_NODE__4296', 'myeloblast_NODE__4292', 'myeloblast_NODE__51588', 'myeloblast_NODE__7544', 'myeloblast_NODE__133746', 'myeloblast_NODE__55004', 'myeloblast_NODE__81565', 'myeloblast_NODE__150290', 'myeloblast_NODE__10998', 'myeloblast_NODE__6764', 'myeloblast_NODE__84817', 'myeloblast_NODE__5868', 'myeloblast_NODE__5865', 'myeloblast_NODE__5867', 'myeloblast_NODE__27122', 'myeloblast_NODE__27125', 'myeloblast_NODE__5862', 'myeloblast_NODE__64130', 'myeloblast_NODE__64137', 'myeloblast_NODE__2186', 'myeloblast_NODE__2185', 'myeloblast_NODE__4609', 'myeloblast_NODE__4710', 'myeloblast_NODE__2189', 'myeloblast_NODE__223', 'myeloblast_NODE__220', 'myeloblast_NODE__2213', 'myeloblast_NODE__8682', 'myeloblast_NODE__57646', 'myeloblast_NODE__6453', 'myeloblast_NODE__27236', 'myeloblast_NODE__27230', 'myeloblast_NODE__6693', 'myeloblast_NODE__201294', 'myeloblast_NODE__9856', 'myeloblast_NODE__156', 'myeloblast_NODE__158', 'myeloblast_NODE__26973', 'myeloblast_NODE__9990', 'myeloblast_NODE__7832', 'myeloblast_NODE__93974', 'myeloblast_NODE__85440', 'myeloblast_NODE__4988', 'myeloblast_NODE__8527', 'myeloblast_NODE__51455', 'myeloblast_NODE__26058', 'myeloblast_NODE__6182', 'myeloblast_NODE__200576', 'myeloblast_NODE__6189', 'myeloblast_NODE__6188', 'myeloblast_NODE__9353', 'myeloblast_NODE__57332', 'myeloblast_NODE__9604', 'myeloblast_NODE__10174', 'myeloblast_NODE__2729', 'myeloblast_NODE__5286', 'myeloblast_NODE__9191', 'myeloblast_NODE__60673', 'myeloblast_NODE__7941', 'myeloblast_NODE__7942', 'myeloblast_NODE__5048', 'myeloblast_NODE__5045', 'myeloblast_NODE__6801', 'myeloblast_NODE__22821', 'myeloblast_NODE__80381', 'myeloblast_NODE__9516', 'myeloblast_NODE__6237', 'myeloblast_NODE__9519', 'myeloblast_NODE__59307', 'myeloblast_NODE__9025', 'myeloblast_NODE__83933', 'myeloblast_NODE__9775', 'myeloblast_NODE__8867', 'myeloblast_NODE__10241', 'myeloblast_NODE__8861', 'myeloblast_NODE__1942', 'myeloblast_NODE__3251', 'myeloblast_NODE__3257', 'myeloblast_NODE__818', 'myeloblast_NODE__811', 'myeloblast_NODE__23175', 'myeloblast_NODE__10206', 'myeloblast_NODE__5460', 'myeloblast_NODE__7046', 'myeloblast_NODE__7041', 'myeloblast_NODE__7040', 'myeloblast_NODE__5467', 'myeloblast_NODE__10201', 'myeloblast_NODE__5469', 'myeloblast_NODE__1499', 'myeloblast_NODE__7048', 'myeloblast_NODE__10196', 'myeloblast_NODE__79039', 'myeloblast_NODE__5265', 'myeloblast_NODE__5264', 'myeloblast_NODE__10193', 'myeloblast_NODE__553115', 'myeloblast_NODE__5268', 'myeloblast_NODE__1129', 'myeloblast_NODE__8609', 'myeloblast_NODE__1120', 'myeloblast_NODE__284217', 'myeloblast_NODE__8607', 'myeloblast_NODE__8604', 'myeloblast_NODE__11135', 'myeloblast_NODE__10055', 'myeloblast_NODE__11130', 'myeloblast_NODE__1540', 'myeloblast_NODE__55183', 'myeloblast_NODE__3029', 'myeloblast_NODE__29911', 'myeloblast_NODE__1019', 'myeloblast_NODE__8738', 'myeloblast_NODE__8737', 'myeloblast_NODE__1017', 'myeloblast_NODE__8517', 'myeloblast_NODE__1236', 'myeloblast_NODE__1230', 'myeloblast_NODE__1232', 'myeloblast_NODE__1233', 'myeloblast_NODE__4194', 'myeloblast_NODE__4193', 'myeloblast_NODE__4358', 'myeloblast_NODE__8834', 'myeloblast_NODE__4353', 'myeloblast_NODE__25970', 'myeloblast_NODE__25976', 'myeloblast_NODE__148022', 'myeloblast_NODE__6502', 'myeloblast_NODE__6500', 'myeloblast_NODE__26610', 'myeloblast_NODE__6506', 'myeloblast_NODE__3801', 'myeloblast_NODE__23481', 'myeloblast_NODE__11344', 'myeloblast_NODE__8467', 'myeloblast_NODE__8464', 'myeloblast_NODE__11343', 'myeloblast_NODE__145482', 'myeloblast_NODE__23310', 'myeloblast_NODE__64151', 'myeloblast_NODE__51022', 'myeloblast_NODE__51024', 'myeloblast_NODE__92610', 'myeloblast_NODE__5704', 'myeloblast_NODE__5705', 'myeloblast_NODE__27005', 'myeloblast_NODE__5701', 'myeloblast_NODE__5702', 'myeloblast_NODE__23392', 'myeloblast_NODE__23390', 'myeloblast_NODE__23394', 'myeloblast_NODE__50511', 'myeloblast_NODE__3082', 'myeloblast_NODE__1960', 'myeloblast_NODE__81570', 'myeloblast_NODE__4775', 'myeloblast_NODE__81576', 'myeloblast_NODE__4771', 'myeloblast_NODE__26286', 'myeloblast_NODE__57634', 'myeloblast_NODE__4778', 'myeloblast_NODE__4175', 'myeloblast_NODE__4176', 'myeloblast_NODE__4170', 'myeloblast_NODE__4173', 'myeloblast_NODE__201161', 'myeloblast_NODE__5818', 'myeloblast_NODE__9943', 'myeloblast_NODE__55650', 'myeloblast_NODE__6895', 'myeloblast_NODE__27130', 'myeloblast_NODE__51330', 'myeloblast_NODE__5817', 'myeloblast_NODE__56652', 'myeloblast_NODE__89122', 'myeloblast_NODE__56655', 'myeloblast_NODE__3064', 'myeloblast_NODE__56302', 'myeloblast_NODE__2212', 'myeloblast_NODE__239', 'myeloblast_NODE__4615', 'myeloblast_NODE__4616', 'myeloblast_NODE__9994', 'myeloblast_NODE__26191', 'myeloblast_NODE__7392', 'myeloblast_NODE__5925', 'myeloblast_NODE__5921', 'myeloblast_NODE__5928', 'myeloblast_NODE__5929', 'myeloblast_NODE__998', 'myeloblast_NODE__5140', 'myeloblast_NODE__26061', 'myeloblast_NODE__26060', 'myeloblast_NODE__85477', 'myeloblast_NODE__85476', 'myeloblast_NODE__2081', 'myeloblast_NODE__2539', 'myeloblast_NODE__64121', 'myeloblast_NODE__5451', 'myeloblast_NODE__2530', 'myeloblast_NODE__2537', 'myeloblast_NODE__2534', 'myeloblast_NODE__4321', 'myeloblast_NODE__1192', 'myeloblast_NODE__9368', 'myeloblast_NODE__9367', 'myeloblast_NODE__9361', 'myeloblast_NODE__8985', 'myeloblast_NODE__7220', 'myeloblast_NODE__8986', 'myeloblast_NODE__7225', 'myeloblast_NODE__10342', 'myeloblast_NODE__10347', 'myeloblast_NODE__5074', 'myeloblast_NODE__60682', 'myeloblast_NODE__1832', 'myeloblast_NODE__56897', 'myeloblast_NODE__1831', 'myeloblast_NODE__1839', 'myeloblast_NODE__6249', 'myeloblast_NODE__939', 'myeloblast_NODE__9563', 'myeloblast_NODE__9564', 'myeloblast_NODE__2152', 'myeloblast_NODE__6240', 'myeloblast_NODE__6241', 'myeloblast_NODE__80020', 'myeloblast_NODE__10527', 'myeloblast_NODE__10522', 'myeloblast_NODE__54206', 'myeloblast_NODE__54205', 'myeloblast_NODE__1956', 'myeloblast_NODE__1958', 'myeloblast_NODE__7319', 'myeloblast_NODE__8877', 'myeloblast_NODE__8879', 'myeloblast_NODE__8878', 'myeloblast_NODE__3240', 'myeloblast_NODE__9131', 'myeloblast_NODE__825', 'myeloblast_NODE__824', 'myeloblast_NODE__84524', 'myeloblast_NODE__7030', 'myeloblast_NODE__112869', 'myeloblast_NODE__1487', 'myeloblast_NODE__5499', 'myeloblast_NODE__3308', 'myeloblast_NODE__7037', 'myeloblast_NODE__54332', 'myeloblast_NODE__7039', 'myeloblast_NODE__5496', 'myeloblast_NODE__3303', 'myeloblast_NODE__3300', 'myeloblast_NODE__3301', 'myeloblast_NODE__10758', 'myeloblast_NODE__1717', 'myeloblast_NODE__929', 'myeloblast_NODE__1718', 'myeloblast_NODE__9388', 'myeloblast_NODE__6259', 'myeloblast_NODE__4318', 'myeloblast_NODE__83548', 'myeloblast_NODE__375033', 'myeloblast_NODE__83547', 'myeloblast_NODE__10747', 'myeloblast_NODE__1130', 'myeloblast_NODE__11120', 'myeloblast_NODE__11124', 'myeloblast_NODE__26574', 'myeloblast_NODE__7786', 'myeloblast_NODE__4976', 'myeloblast_NODE__222229', 'myeloblast_NODE__79753', 'myeloblast_NODE__7148', 'myeloblast_NODE__26994', 'myeloblast_NODE__26999', 'myeloblast_NODE__6256', 'myeloblast_NODE__252983', 'myeloblast_NODE__513', 'myeloblast_NODE__139716', 'myeloblast_NODE__515', 'myeloblast_NODE__514', 'myeloblast_NODE__8727', 'myeloblast_NODE__8726', 'myeloblast_NODE__4189', 'myeloblast_NODE__8503', 'myeloblast_NODE__23129', 'myeloblast_NODE__23654', 'myeloblast_NODE__79577', 'myeloblast_NODE__79576', 'myeloblast_NODE__5663', 'myeloblast_NODE__5660', 'myeloblast_NODE__6532', 'myeloblast_NODE__8294', 'myeloblast_NODE__5664', 'myeloblast_NODE__9099', 'myeloblast_NODE__2887', 'myeloblast_NODE__2885', 'myeloblast_NODE__3306', 'myeloblast_NODE__2889', 'myeloblast_NODE__7494', 'myeloblast_NODE__23011', 'myeloblast_NODE__8611', 'myeloblast_NODE__8613', 'myeloblast_NODE__5783', 'myeloblast_NODE__3875', 'myeloblast_NODE__11331', 'myeloblast_NODE__26520', 'myeloblast_NODE__26524', 'myeloblast_NODE__8476', 'myeloblast_NODE__8473', 'myeloblast_NODE__23236', 'myeloblast_NODE__6403', 'myeloblast_NODE__14', 'myeloblast_NODE__6404', 'myeloblast_NODE__16', 'myeloblast_NODE__19', 'myeloblast_NODE__5716', 'myeloblast_NODE__27031', 'myeloblast_NODE__27035', 'myeloblast_NODE__7763', 'myeloblast_NODE__9978', 'myeloblast_NODE__137964', 'myeloblast_NODE__55201', 'myeloblast_NODE__1289', 'myeloblast_NODE__4763', 'myeloblast_NODE__6742', 'myeloblast_NODE__23348', 'myeloblast_NODE__26297', 'myeloblast_NODE__29109', 'myeloblast_NODE__4163', 'myeloblast_NODE__27102', 'myeloblast_NODE__5954', 'myeloblast_NODE__64805', 'myeloblast_NODE__64802', 'myeloblast_NODE__51499', 'myeloblast_NODE__55669', 'myeloblast_NODE__5802', 'myeloblast_NODE__5801', 'myeloblast_NODE__51322', 'myeloblast_NODE__9950', 'myeloblast_NODE__79718', 'myeloblast_NODE__207', 'myeloblast_NODE__208', 'myeloblast_NODE__1475', 'myeloblast_NODE__64798', 'myeloblast_NODE__8646', 'myeloblast_NODE__55681', 'myeloblast_NODE__204851', 'myeloblast_NODE__55689', 'myeloblast_NODE__56262', 'myeloblast_NODE__5936', 'myeloblast_NODE__5932', 'myeloblast_NODE__5931', 'myeloblast_NODE__5930', 'myeloblast_NODE__51141', 'myeloblast_NODE__51147', 'myeloblast_NODE__51144', 'myeloblast_NODE__57680', 'myeloblast_NODE__80762', 'myeloblast_NODE__7818', 'myeloblast_NODE__3491', 'myeloblast_NODE__3659', 'myeloblast_NODE__226', 'myeloblast_NODE__3654', 'myeloblast_NODE__3655', 'myeloblast_NODE__7248', 'myeloblast_NODE__25796', 'myeloblast_NODE__148281', 'myeloblast_NODE__85464', 'myeloblast_NODE__80145', 'myeloblast_NODE__26276', 'myeloblast_NODE__26277', 'myeloblast_NODE__26272', 'myeloblast_NODE__26270', 'myeloblast_NODE__26271', 'myeloblast_NODE__5062', 'myeloblast_NODE__9371', 'myeloblast_NODE__9372', 'myeloblast_NODE__2702', 'myeloblast_NODE__81929', 'myeloblast_NODE__10787', 'myeloblast_NODE__9173', 'myeloblast_NODE__9170', 'myeloblast_NODE__928', 'myeloblast_NODE__9572', 'myeloblast_NODE__2145', 'myeloblast_NODE__9577', 'myeloblast_NODE__2140', 'myeloblast_NODE__920', 'myeloblast_NODE__6251', 'myeloblast_NODE__6257', 'myeloblast_NODE__10755', 'myeloblast_NODE__2149', 'myeloblast_NODE__10533', 'myeloblast_NODE__5395', 'myeloblast_NODE__3276', 'myeloblast_NODE__3275', 'myeloblast_NODE__3273', 'myeloblast_NODE__3476', 'myeloblast_NODE__836', 'myeloblast_NODE__834', 'myeloblast_NODE__835', 'myeloblast_NODE__84282', 'myeloblast_NODE__8881', 'myeloblast_NODE__4221', 'myeloblast_NODE__30001', 'myeloblast_NODE__58487', 'myeloblast_NODE__58488', 'myeloblast_NODE__7023', 'myeloblast_NODE__5585', 'myeloblast_NODE__10228', 'myeloblast_NODE__7026', 'myeloblast_NODE__7025', 'myeloblast_NODE__3312', 'myeloblast_NODE__80856', 'myeloblast_NODE__10221', 'myeloblast_NODE__80854', 'myeloblast_NODE__780', 'myeloblast_NODE__6574', 'myeloblast_NODE__1728', 'myeloblast_NODE__1729', 'myeloblast_NODE__5245', 'myeloblast_NODE__5243', 'myeloblast_NODE__7027', 'myeloblast_NODE__6477', 'myeloblast_NODE__7159', 'myeloblast_NODE__7157', 'myeloblast_NODE__3315', 'myeloblast_NODE__55500', 'myeloblast_NODE__79184', 'myeloblast_NODE__509', 'myeloblast_NODE__1032', 'myeloblast_NODE__1030', 'myeloblast_NODE__1031', 'myeloblast_NODE__29937', 'myeloblast_NODE__23648', 'myeloblast_NODE__23649', 'myeloblast_NODE__632', 'myeloblast_NODE__637', 'myeloblast_NODE__638', 'myeloblast_NODE__23133', 'myeloblast_NODE__30009', 'myeloblast_NODE__6521', 'myeloblast_NODE__6523', 'myeloblast_NODE__497661', 'myeloblast_NODE__5654', 'myeloblast_NODE__28962', 'myeloblast_NODE__2898', 'myeloblast_NODE__25998', 'myeloblast_NODE__25999', 'myeloblast_NODE__11060', 'myeloblast_NODE__2896', 'myeloblast_NODE__1454', 'myeloblast_NODE__1104', 'myeloblast_NODE__1105', 'myeloblast_NODE__409', 'myeloblast_NODE__1453', 'myeloblast_NODE__4085', 'myeloblast_NODE__4086', 'myeloblast_NODE__4087', 'myeloblast_NODE__4088', 'myeloblast_NODE__4089', 'myeloblast_NODE__91949', 'myeloblast_NODE__8408', 'myeloblast_NODE__11326', 'myeloblast_NODE__26519', 'myeloblast_NODE__11325', 'myeloblast_NODE__11328', 'myeloblast_NODE__55072', 'myeloblast_NODE__5728', 'myeloblast_NODE__7572', 'myeloblast_NODE__6418', 'myeloblast_NODE__51009', 'myeloblast_NODE__55075', 'myeloblast_NODE__5720', 'myeloblast_NODE__5721', 'myeloblast_NODE__9810', 'myeloblast_NODE__5724', 'myeloblast_NODE__51552', 'myeloblast_NODE__959', 'myeloblast_NODE__3915', 'myeloblast_NODE__3913', 'myeloblast_NODE__3912', 'myeloblast_NODE__3911', 'myeloblast_NODE__958', 'myeloblast_NODE__3838', 'myeloblast_NODE__8314', 'myeloblast_NODE__8315', 'myeloblast_NODE__6732', 'myeloblast_NODE__6733', 'myeloblast_NODE__8312', 'myeloblast_NODE__6737', 'myeloblast_NODE__6599', 'myeloblast_NODE__4790', 'myeloblast_NODE__4791', 'myeloblast_NODE__4792', 'myeloblast_NODE__5836', 'myeloblast_NODE__8085', 'myeloblast_NODE__26469', 'myeloblast_NODE__27113', 'myeloblast_NODE__5830', 'myeloblast_NODE__5831', 'myeloblast_NODE__11253', 'myeloblast_NODE__6348', 'myeloblast_NODE__5991', 'myeloblast_NODE__9927', 'myeloblast_NODE__216', 'myeloblast_NODE__64783', 'myeloblast_NODE__55503', 'myeloblast_NODE__64786', 'myeloblast_NODE__55696', 'myeloblast_NODE__23376', 'myeloblast_NODE__6648', 'myeloblast_NODE__6646', 'myeloblast_NODE__6647', 'myeloblast_NODE__6642', 'myeloblast_NODE__29945', 'myeloblast_NODE__5900', 'myeloblast_NODE__4836', 'myeloblast_NODE__5906', 'myeloblast_NODE__51773', 'myeloblast_NODE__5908', 'myeloblast_NODE__10818', 'myeloblast_NODE__7804', 'myeloblast_NODE__3480', 'myeloblast_NODE__57122', 'myeloblast_NODE__57120', 'myeloblast_NODE__29108', 'myeloblast_NODE__554313', 'myeloblast_NODE__3643', 'myeloblast_NODE__124641', 'myeloblast_NODE__2395', 'myeloblast_NODE__2778', 'myeloblast_NODE__5289', 'myeloblast_NODE__4899', 'myeloblast_NODE__10325', 'myeloblast_NODE__10326', 'myeloblast_NODE__5018', 'myeloblast_NODE__2771', 'myeloblast_NODE__4891', 'myeloblast_NODE__2776', 'myeloblast_NODE__116143', 'myeloblast_NODE__81930', 'myeloblast_NODE__7976', 'myeloblast_NODE__9146', 'myeloblast_NODE__9145', 'myeloblast_NODE__79960', 'myeloblast_NODE__3840', 'myeloblast_NODE__3162', 'myeloblast_NODE__1855', 'myeloblast_NODE__1856', 'myeloblast_NODE__353376', 'myeloblast_NODE__4968', 'myeloblast_NODE__9546', 'myeloblast_NODE__5696', 'myeloblast_NODE__9545', 'myeloblast_NODE__9727', 'myeloblast_NODE__112398', 'myeloblast_NODE__80005', 'myeloblast_NODE__51079', 'myeloblast_NODE__10783', 'myeloblast_NODE__10782', 'myeloblast_NODE__64215', 'myeloblast_NODE__1937', 'myeloblast_NODE__1936', 'myeloblast_NODE__3267', 'myeloblast_NODE__57534', 'myeloblast_NODE__373', 'myeloblast_NODE__64219', 'myeloblast_NODE__847', 'myeloblast_NODE__842', 'myeloblast_NODE__8897', 'myeloblast_NODE__8894', 'myeloblast_NODE__8893', 'myeloblast_NODE__8892', 'myeloblast_NODE__8891', 'myeloblast_NODE__8890', 'myeloblast_NODE__3364', 'myeloblast_NODE__53335', 'myeloblast_NODE__54822', 'myeloblast_NODE__7155', 'myeloblast_NODE__54820', 'myeloblast_NODE__10379', 'myeloblast_NODE__9031', 'myeloblast_NODE__7018', 'myeloblast_NODE__7019', 'myeloblast_NODE__10253', 'myeloblast_NODE__10252', 'myeloblast_NODE__7013', 'myeloblast_NODE__1739', 'myeloblast_NODE__1738', 'myeloblast_NODE__1730', 'myeloblast_NODE__123879', 'myeloblast_NODE__10370', 'myeloblast_NODE__84340', 'myeloblast_NODE__84619', 'myeloblast_NODE__56943', 'myeloblast_NODE__8775', 'myeloblast_NODE__754', 'myeloblast_NODE__79084', 'myeloblast_NODE__115426', 'myeloblast_NODE__6886', 'myeloblast_NODE__506', 'myeloblast_NODE__3073', 'myeloblast_NODE__3074', 'myeloblast_NODE__6883', 'myeloblast_NODE__6880', 'myeloblast_NODE__6881', 'myeloblast_NODE__2954', 'myeloblast_NODE__2956', 'myeloblast_NODE__2950', 'myeloblast_NODE__7168', 'myeloblast_NODE__7169', 'myeloblast_NODE__1020', 'myeloblast_NODE__1022', 'myeloblast_NODE__7163', 'myeloblast_NODE__7161', 'myeloblast_NODE__1029', 'myeloblast_NODE__1028', 'myeloblast_NODE__7164', 'myeloblast_NODE__79065', 'myeloblast_NODE__79176', 'myeloblast_NODE__8078', 'myeloblast_NODE__79791', 'myeloblast_NODE__602', 'myeloblast_NODE__1201', 'myeloblast_NODE__1200', 'myeloblast_NODE__1203', 'myeloblast_NODE__8106', 'myeloblast_NODE__7070', 'myeloblast_NODE__5641', 'myeloblast_NODE__8273', 'myeloblast_NODE__3108', 'myeloblast_NODE__2730', 'myeloblast_NODE__23139', 'myeloblast_NODE__11076', 'myeloblast_NODE__126119', 'myeloblast_NODE__23640', 'myeloblast_NODE__8671', 'myeloblast_NODE__8677', 'myeloblast_NODE__1441', 'myeloblast_NODE__29072', 'myeloblast_NODE__1119', 'myeloblast_NODE__87178', 'myeloblast_NODE__23032', 'myeloblast_NODE__23741', 'myeloblast_NODE__4092', 'myeloblast_NODE__4091', 'myeloblast_NODE__4090', 'myeloblast_NODE__2004', 'myeloblast_NODE__4094', 'myeloblast_NODE__488', 'myeloblast_NODE__4040', 'myeloblast_NODE__11315', 'myeloblast_NODE__8416', 'myeloblast_NODE__6468', 'myeloblast_NODE__9869', 'myeloblast_NODE__51548', 'myeloblast_NODE__6461', 'myeloblast_NODE__9804', 'myeloblast_NODE__6464', 'myeloblast_NODE__4725', 'myeloblast_NODE__25836', 'myeloblast_NODE__9690', 'myeloblast_NODE__79228', 'myeloblast_NODE__3925', 'myeloblast_NODE__6359', 'myeloblast_NODE__23363', 'myeloblast_NODE__6722', 'myeloblast_NODE__6720', 'myeloblast_NODE__8301', 'myeloblast_NODE__6729', 'myeloblast_NODE__23368', 'myeloblast_NODE__4781', 'myeloblast_NODE__4780', 'myeloblast_NODE__51304', 'myeloblast_NODE__8092', 'myeloblast_NODE__5829', 'myeloblast_NODE__5828', 'myeloblast_NODE__11260', 'myeloblast_NODE__8099', 'myeloblast_NODE__6487', 'myeloblast_NODE__9867', 'myeloblast_NODE__3858', 'myeloblast_NODE__123169', 'myeloblast_NODE__51755', 'myeloblast_NODE__6093', 'myeloblast_NODE__6095', 'myeloblast_NODE__80725', 'myeloblast_NODE__80727', 'myeloblast_NODE__51160', 'myeloblast_NODE__51162', 'myeloblast_NODE__6655', 'myeloblast_NODE__6654', 'myeloblast_NODE__340061', 'myeloblast_NODE__6651', 'myeloblast_NODE__154796', 'myeloblast_NODE__10808', 'myeloblast_NODE__51763', 'myeloblast_NODE__5915', 'myeloblast_NODE__5914', 'myeloblast_NODE__5916', 'myeloblast_NODE__5911', 'myeloblast_NODE__10801', 'myeloblast_NODE__56246', 'myeloblast_NODE__5912', 'myeloblast_NODE__2288', 'myeloblast_NODE__79885', 'myeloblast_NODE__56751', 'myeloblast_NODE__79888', 'myeloblast_NODE__196', 'myeloblast_NODE__3678', 'myeloblast_NODE__6386', 'myeloblast_NODE__3672', 'myeloblast_NODE__64682', 'myeloblast_NODE__3676', 'myeloblast_NODE__3675', 'myeloblast_NODE__2542', 'myeloblast_NODE__10458', 'myeloblast_NODE__2547', 'myeloblast_NODE__57599', 'myeloblast_NODE__117157', 'myeloblast_NODE__2549', 'myeloblast_NODE__2548', 'myeloblast_NODE__57591', 'myeloblast_NODE__114609', 'myeloblast_NODE__1457', 'myeloblast_NODE__26258', 'myeloblast_NODE__26259', 'myeloblast_NODE__10333', 'myeloblast_NODE__2768', 'myeloblast_NODE__3586', 'myeloblast_NODE__64422', 'myeloblast_NODE__3589', 'myeloblast_NODE__2760', 'myeloblast_NODE__2767', 'myeloblast_NODE__64428', 'myeloblast_NODE__153090', 'myeloblast_NODE__902', 'myeloblast_NODE__1849', 'myeloblast_NODE__1848', 'myeloblast_NODE__6275', 'myeloblast_NODE__1840', 'myeloblast_NODE__60436', 'myeloblast_NODE__1845', 'myeloblast_NODE__9559', 'myeloblast_NODE__9551', 'myeloblast_NODE__4953', 'myeloblast_NODE__2160', 'myeloblast_NODE__9557', 'myeloblast_NODE__2162', 'myeloblast_NODE__54496', 'myeloblast_NODE__9736', 'myeloblast_NODE__7342', 'myeloblast_NODE__3299', 'myeloblast_NODE__5139', 'myeloblast_NODE__1909', 'myeloblast_NODE__1906', 'myeloblast_NODE__3295', 'myeloblast_NODE__3297', 'myeloblast_NODE__5130', 'myeloblast_NODE__84759', 'myeloblast_NODE__22976', 'myeloblast_NODE__285381', 'myeloblast_NODE__54677', 'myeloblast_NODE__353174', 'myeloblast_NODE__7001', 'myeloblast_NODE__55471', 'myeloblast_NODE__9020', 'myeloblast_NODE__9022', 'myeloblast_NODE__5223', 'myeloblast_NODE__5226', 'myeloblast_NODE__5224', 'myeloblast_NODE__64599', 'myeloblast_NODE__8930', 'myeloblast_NODE__84376', 'myeloblast_NODE__8932', 'myeloblast_NODE__8563', 'myeloblast_NODE__22882', 'myeloblast_NODE__5886', 'myeloblast_NODE__29882', 'myeloblast_NODE__29886', 'myeloblast_NODE__7175', 'myeloblast_NODE__6890', 'myeloblast_NODE__1798', 'myeloblast_NODE__7171', 'myeloblast_NODE__3066', 'myeloblast_NODE__3065', 'myeloblast_NODE__2948', 'myeloblast_NODE__2947', 'myeloblast_NODE__2946', 'myeloblast_NODE__7178', 'myeloblast_NODE__2941', 'myeloblast_NODE__1051', 'myeloblast_NODE__1054', 'myeloblast_NODE__5352', 'myeloblast_NODE__5351', 'myeloblast_NODE__91147', 'myeloblast_NODE__8569', 'myeloblast_NODE__115703', 'myeloblast_NODE__1278', 'myeloblast_NODE__79784', 'myeloblast_NODE__1270', 'myeloblast_NODE__613', 'myeloblast_NODE__617', 'myeloblast_NODE__11047', 'myeloblast_NODE__54107', 'myeloblast_NODE__54106', 'myeloblast_NODE__11040', 'myeloblast_NODE__8243', 'myeloblast_NODE__710', 'myeloblast_NODE__8795', 'myeloblast_NODE__1490', 'myeloblast_NODE__3119', 'myeloblast_NODE__10908', 'myeloblast_NODE__23028', 'myeloblast_NODE__1471', 'myeloblast_NODE__1476', 'myeloblast_NODE__144717', 'myeloblast_NODE__8649', 'myeloblast_NODE__23020', 'myeloblast_NODE__3337', 'myeloblast_NODE__1495', 'myeloblast_NODE__8425', 'myeloblast_NODE__50488', 'myeloblast_NODE__7043', 'myeloblast_NODE__50485', 'myeloblast_NODE__23759', 'myeloblast_NODE__23592', 'myeloblast_NODE__5743', 'myeloblast_NODE__498', 'myeloblast_NODE__5747', 'myeloblast_NODE__23598', 'myeloblast_NODE__491', 'myeloblast_NODE__2591', 'myeloblast_NODE__5587', 'myeloblast_NODE__27', 'myeloblast_NODE__20', 'myeloblast_NODE__5580', 'myeloblast_NODE__5581', 'myeloblast_NODE__6470', 'myeloblast_NODE__340205', 'myeloblast_NODE__29', 'myeloblast_NODE__25824', 'myeloblast_NODE__25820', 'myeloblast_NODE__92140', 'myeloblast_NODE__10197', 'myeloblast_NODE__3936', 'myeloblast_NODE__3931', 'myeloblast_NODE__51684', 'myeloblast_NODE__6717', 'myeloblast_NODE__6714', 'myeloblast_NODE__10300', 'myeloblast_NODE__23370', 'myeloblast_NODE__8501', 'myeloblast_NODE__6711', 'myeloblast_NODE__9903', 'myeloblast_NODE__51377', 'myeloblast_NODE__51379', 'myeloblast_NODE__51378', 'myeloblast_NODE__4133', 'myeloblast_NODE__4437', 'myeloblast_NODE__5692', 'myeloblast_NODE__5693', 'myeloblast_NODE__3843', 'myeloblast_NODE__3845', 'myeloblast_NODE__65018', 'myeloblast_NODE__3849', 'myeloblast_NODE__3848', 'myeloblast_NODE__4047', 'myeloblast_NODE__375790', 'myeloblast_NODE__4041', 'myeloblast_NODE__51194', 'myeloblast_NODE__51196', 'myeloblast_NODE__4048', 'myeloblast_NODE__6667', 'myeloblast_NODE__51752', 'myeloblast_NODE__51750', 'myeloblast_NODE__55236', 'myeloblast_NODE__5966', 'myeloblast_NODE__3665', 'myeloblast_NODE__3667', 'myeloblast_NODE__3661', 'myeloblast_NODE__2280', 'myeloblast_NODE__2281', 'myeloblast_NODE__150684', 'myeloblast_NODE__56984', 'myeloblast_NODE__3669', 'myeloblast_NODE__4542', 'myeloblast_NODE__6289', 'myeloblast_NODE__81559', 'myeloblast_NODE__10905', 'myeloblast_NODE__4534', 'myeloblast_NODE__10902', 'myeloblast_NODE__26224', 'myeloblast_NODE__26227', 'myeloblast_NODE__2590', 'myeloblast_NODE__10658', 'myeloblast_NODE__10657', 'myeloblast_NODE__8313', 'myeloblast_NODE__5033', 'myeloblast_NODE__10652', 'myeloblast_NODE__1876', 'myeloblast_NODE__7919', 'myeloblast_NODE__4436', 'myeloblast_NODE__8237', 'myeloblast_NODE__6283', 'myeloblast_NODE__7917', 'myeloblast_NODE__7915', 'myeloblast_NODE__57104', 'myeloblast_NODE__975', 'myeloblast_NODE__972', 'myeloblast_NODE__163126', 'myeloblast_NODE__6284', 'myeloblast_NODE__6286', 'myeloblast_NODE__6280', 'myeloblast_NODE__978', 'myeloblast_NODE__2118', 'myeloblast_NODE__2119', 'myeloblast_NODE__57107', 'myeloblast_NODE__26130', 'myeloblast_NODE__26133', 'myeloblast_NODE__6045', 'myeloblast_NODE__2110', 'myeloblast_NODE__80267', 'myeloblast_NODE__6049', 'myeloblast_NODE__8600', 'myeloblast_NODE__6047', 'myeloblast_NODE__2623', 'myeloblast_NODE__2621', 'myeloblast_NODE__2626', 'myeloblast_NODE__2624', 'myeloblast_NODE__2625', 'myeloblast_NODE__2629', 'myeloblast_NODE__5108', 'myeloblast_NODE__10013', 'myeloblast_NODE__7358', 'myeloblast_NODE__9588', 'myeloblast_NODE__10010', 'myeloblast_NODE__9230', 'myeloblast_NODE__3280', 'myeloblast_NODE__868', 'myeloblast_NODE__6360', 'myeloblast_NODE__861', 'myeloblast_NODE__864', 'myeloblast_NODE__2752', 'myeloblast_NODE__2022', 'myeloblast_NODE__2023', 'myeloblast_NODE__10497', 'myeloblast_NODE__10494', 'myeloblast_NODE__10277', 'myeloblast_NODE__10273', 'myeloblast_NODE__10272', 'myeloblast_NODE__10270', 'myeloblast_NODE__58191', 'myeloblast_NODE__889', 'myeloblast_NODE__8089', 'myeloblast_NODE__5217', 'myeloblast_NODE__10477', 'myeloblast_NODE__10476', 'myeloblast_NODE__83695', 'myeloblast_NODE__5213', 'myeloblast_NODE__5211', 'myeloblast_NODE__9053', 'myeloblast_NODE__221178', 'myeloblast_NODE__10087', 'myeloblast_NODE__92609', 'myeloblast_NODE__80314', 'myeloblast_NODE__8924', 'myeloblast_NODE__80312', 'myeloblast_NODE__22893', 'myeloblast_NODE__22894', 'myeloblast_NODE__7100', 'myeloblast_NODE__6868', 'myeloblast_NODE__7105', 'myeloblast_NODE__71', 'myeloblast_NODE__3059', 'myeloblast_NODE__3054', 'myeloblast_NODE__6863', 'myeloblast_NODE__1043', 'myeloblast_NODE__5360', 'myeloblast_NODE__5364', 'myeloblast_NODE__4597', 'myeloblast_NODE__79158', 'myeloblast_NODE__79155', 'myeloblast_NODE__4303', 'myeloblast_NODE__1268', 'myeloblast_NODE__667', 'myeloblast_NODE__665', 'myeloblast_NODE__664', 'myeloblast_NODE__662', 'myeloblast_NODE__661', 'myeloblast_NODE__11051', 'myeloblast_NODE__11052', 'myeloblast_NODE__11059', 'myeloblast_NODE__55856', 'myeloblast_NODE__8658', 'myeloblast_NODE__8651', 'myeloblast_NODE__1464', 'myeloblast_NODE__10014', 'myeloblast_NODE__8654', 'myeloblast_NODE__521', 'myeloblast_NODE__522', 'myeloblast_NODE__284110', 'myeloblast_NODE__23765', 'myeloblast_NODE__51564', 'myeloblast_NODE__6915', 'myeloblast_NODE__6917', 'myeloblast_NODE__9821', 'myeloblast_NODE__23568', 'myeloblast_NODE__51562', 'myeloblast_NODE__23566', 'myeloblast_NODE__23560', 'myeloblast_NODE__5591', 'myeloblast_NODE__5590', 'myeloblast_NODE__5595', 'myeloblast_NODE__5594', 'myeloblast_NODE__5599', 'myeloblast_NODE__5598', 'myeloblast_NODE__23161', 'myeloblast_NODE__23162', 'myeloblast_NODE__23166', 'myeloblast_NODE__4598', 'myeloblast_NODE__5154', 'myeloblast_NODE__3949', 'myeloblast_NODE__55081', 'myeloblast_NODE__311', 'myeloblast_NODE__23308', 'myeloblast_NODE__79661', 'myeloblast_NODE__23303', 'myeloblast_NODE__23304', 'myeloblast_NODE__8322', 'myeloblast_NODE__9910', 'myeloblast_NODE__9913', 'myeloblast_NODE__653519', 'myeloblast_NODE__51366', 'myeloblast_NODE__6387', 'myeloblast_NODE__9918', 'myeloblast_NODE__4124', 'myeloblast_NODE__7430', 'myeloblast_NODE__7431', 'myeloblast_NODE__5683', 'myeloblast_NODE__5682', 'myeloblast_NODE__64759', 'myeloblast_NODE__1509', 'myeloblast_NODE__64750', 'myeloblast_NODE__64754', 'myeloblast_NODE__23414', 'myeloblast_NODE__23411', 'myeloblast_NODE__6670', 'myeloblast_NODE__6672', 'myeloblast_NODE__84967', 'myeloblast_NODE__4055', 'myeloblast_NODE__4054', 'myeloblast_NODE__27252', 'myeloblast_NODE__51185', 'myeloblast_NODE__4059', 'myeloblast_NODE__51181', 'myeloblast_NODE__5194', 'myeloblast_NODE__27097', 'myeloblast_NODE__10869', 'myeloblast_NODE__5971', 'myeloblast_NODE__5970', 'myeloblast_NODE__5976', 'myeloblast_NODE__56998', 'myeloblast_NODE__3611', 'myeloblast_NODE__3612', 'myeloblast_NODE__51504', 'myeloblast_NODE__56993', 'myeloblast_NODE__5770', 'myeloblast_NODE__55958', 'myeloblast_NODE__6584', 'myeloblast_NODE__5775', 'myeloblast_NODE__25776', 'myeloblast_NODE__26234', 'myeloblast_NODE__10919', 'myeloblast_NODE__9133', 'myeloblast_NODE__55128', 'myeloblast_NODE__57551', 'myeloblast_NODE__2584', 'myeloblast_NODE__64407', 'myeloblast_NODE__7923', 'myeloblast_NODE__10645', 'myeloblast_NODE__5025', 'myeloblast_NODE__2589', 'myeloblast_NODE__3728', 'myeloblast_NODE__3725', 'myeloblast_NODE__3726', 'myeloblast_NODE__3727', 'myeloblast_NODE__3720', 'myeloblast_NODE__4686', 'myeloblast_NODE__966', 'myeloblast_NODE__56254', 'myeloblast_NODE__960', 'myeloblast_NODE__4683', 'myeloblast_NODE__4681', 'myeloblast_NODE__4688', 'myeloblast_NODE__140825', 'myeloblast_NODE__57178', 'myeloblast_NODE__2107', 'myeloblast_NODE__6050', 'myeloblast_NODE__10006', 'myeloblast_NODE__5110', 'myeloblast_NODE__2634', 'myeloblast_NODE__54476', 'myeloblast_NODE__5119', 'myeloblast_NODE__5819', 'myeloblast_NODE__147912', 'myeloblast_NODE__7709', 'myeloblast_NODE__9220', 'myeloblast_NODE__641', 'myeloblast_NODE__54872', 'myeloblast_NODE__79840', 'myeloblast_NODE__56970', 'myeloblast_NODE__1536', 'myeloblast_NODE__3431', 'myeloblast_NODE__22955', 'myeloblast_NODE__871', 'myeloblast_NODE__10488', 'myeloblast_NODE__2034', 'myeloblast_NODE__2033', 'myeloblast_NODE__2744', 'myeloblast_NODE__2747', 'myeloblast_NODE__2746', 'myeloblast_NODE__4846', 'myeloblast_NODE__57396', 'myeloblast_NODE__10487', 'myeloblast_NODE__891', 'myeloblast_NODE__896', 'myeloblast_NODE__899', 'myeloblast_NODE__9049', 'myeloblast_NODE__24145', 'myeloblast_NODE__129138', 'myeloblast_NODE__5204', 'myeloblast_NODE__10460', 'myeloblast_NODE__648', 'myeloblast_NODE__9043', 'myeloblast_NODE__54583', 'myeloblast_NODE__9040', 'myeloblast_NODE__1969', 'myeloblast_NODE__23144', 'myeloblast_NODE__142678', 'myeloblast_NODE__5195', 'myeloblast_NODE__150465', 'myeloblast_NODE__8914', 'myeloblast_NODE__8915', 'myeloblast_NODE__54904', 'myeloblast_NODE__54902', 'myeloblast_NODE__2965', 'myeloblast_NODE__1789', 'myeloblast_NODE__2967', 'myeloblast_NODE__5196', 'myeloblast_NODE__2962', 'myeloblast_NODE__7328', 'myeloblast_NODE__2969', 'myeloblast_NODE__1786', 'myeloblast_NODE__5190', 'myeloblast_NODE__6879', 'myeloblast_NODE__6877', 'myeloblast_NODE__3040', 'myeloblast_NODE__3043', 'myeloblast_NODE__10083', 'myeloblast_NODE__6873', 'myeloblast_NODE__6872', 'myeloblast_NODE__6871', 'myeloblast_NODE__57826', 'myeloblast_NODE__5376', 'myeloblast_NODE__5371', 'myeloblast_NODE__7390', 'myeloblast_NODE__1676', 'myeloblast_NODE__1672', 'myeloblast_NODE__30827', 'myeloblast_NODE__678', 'myeloblast_NODE__675', 'myeloblast_NODE__676', 'myeloblast_NODE__677', 'myeloblast_NODE__4332', 'myeloblast_NODE__672', 'myeloblast_NODE__4331', 'myeloblast_NODE__283489', 'myeloblast_NODE__8462', 'myeloblast_NODE__11342', 'myeloblast_NODE__23770', 'myeloblast_NODE__23774', 'myeloblast_NODE__6907', 'myeloblast_NODE__51510', 'myeloblast_NODE__6905', 'myeloblast_NODE__6904', 'myeloblast_NODE__6903', 'myeloblast_NODE__9855', 'myeloblast_NODE__6901', 'myeloblast_NODE__4204', 'myeloblast_NODE__4205', 'myeloblast_NODE__5568', 'myeloblast_NODE__5566', 'myeloblast_NODE__5562', 'myeloblast_NODE__1524', 'myeloblast_NODE__1522', 'myeloblast_NODE__1523', 'myeloblast_NODE__25805', 'myeloblast_NODE__309', 'myeloblast_NODE__84883', 'myeloblast_NODE__3958', 'myeloblast_NODE__55729', 'myeloblast_NODE__301', 'myeloblast_NODE__302', 'myeloblast_NODE__3956', 'myeloblast_NODE__306', 'myeloblast_NODE__3954', 'myeloblast_NODE__8359', 'myeloblast_NODE__23318', 'myeloblast_NODE__11218', 'myeloblast_NODE__130557', 'myeloblast_NODE__51429', 'myeloblast_NODE__51026', 'myeloblast_NODE__51422', 'myeloblast_NODE__55432', 'myeloblast_NODE__7423', 'myeloblast_NODE__7422', 'myeloblast_NODE__7421', 'myeloblast_NODE__7428', 'myeloblast_NODE__10049', 'myeloblast_NODE__23406', 'myeloblast_NODE__6601', 'myeloblast_NODE__6602', 'myeloblast_NODE__23405', 'myeloblast_NODE__55743', 'myeloblast_NODE__6609', 'myeloblast_NODE__23409', 'myeloblast_NODE__10856', 'myeloblast_NODE__27242', 'myeloblast_NODE__4061', 'myeloblast_NODE__4067', 'myeloblast_NODE__27248', 'myeloblast_NODE__4068', 'myeloblast_NODE__27086', 'myeloblast_NODE__51738', 'myeloblast_NODE__5786', 'myeloblast_NODE__5780', 'myeloblast_NODE__5781', 'myeloblast_NODE__5782', 'myeloblast_NODE__983', 'myeloblast_NODE__55159', 'myeloblast_NODE__150209', 'myeloblast_NODE__5788', 'myeloblast_NODE__3603', 'myeloblast_NODE__3600', 'myeloblast_NODE__63971', 'myeloblast_NODE__116985', 'myeloblast_NODE__222068', 'myeloblast_NODE__7329', 'myeloblast_NODE__55746', 'myeloblast_NODE__5443', 'myeloblast_NODE__27338', 'myeloblast_NODE__27339', 'myeloblast_NODE__2353', 'myeloblast_NODE__10928', 'myeloblast_NODE__2355', 'myeloblast_NODE__22919', 'myeloblast_NODE__10672', 'myeloblast_NODE__10670', 'myeloblast_NODE__9451', 'myeloblast_NODE__9100', 'myeloblast_NODE__9101', 'myeloblast_NODE__9140', 'myeloblast_NODE__1893', 'myeloblast_NODE__4691', 'myeloblast_NODE__4690', 'myeloblast_NODE__57491', 'myeloblast_NODE__4926', 'myeloblast_NODE__2131', 'myeloblast_NODE__950', 'myeloblast_NODE__952', 'myeloblast_NODE__23043', 'myeloblast_NODE__2139', 'myeloblast_NODE__128239', 'myeloblast_NODE__93986', 'myeloblast_NODE__81846', 'myeloblast_NODE__81847', 'myeloblast_NODE__81844', 'myeloblast_NODE__85363', 'myeloblast_NODE__26119', 'myeloblast_NODE__85365', 'myeloblast_NODE__2648', 'myeloblast_NODE__10075', 'myeloblast_NODE__10076', 'myeloblast_NODE__2645', 'myeloblast_NODE__9218', 'myeloblast_NODE__9219', 'myeloblast_NODE__9213', 'myeloblast_NODE__22948', 'myeloblast_NODE__9217', 'myeloblast_NODE__54862', 'myeloblast_NODE__6613', 'myeloblast_NODE__56940', 'myeloblast_NODE__6261', 'myeloblast_NODE__10106', 'myeloblast_NODE__4209', 'myeloblast_NODE__84168', 'myeloblast_NODE__9695', 'myeloblast_NODE__4853', 'myeloblast_NODE__9693', 'myeloblast_NODE__4851', 'myeloblast_NODE__4850', 'myeloblast_NODE__9076', 'myeloblast_NODE__10299', 'myeloblast_NODE__9070', 'myeloblast_NODE__54602', 'myeloblast_NODE__10296', 'myeloblast_NODE__9079', 'myeloblast_NODE__10452', 'myeloblast_NODE__9670', 'myeloblast_NODE__10105', 'myeloblast_NODE__10459', 'myeloblast_NODE__1857', 'myeloblast_NODE__3557', 'myeloblast_NODE__3554', 'myeloblast_NODE__3553', 'myeloblast_NODE__3552', 'myeloblast_NODE__3551', 'myeloblast_NODE__387893', 'myeloblast_NODE__10580', 'myeloblast_NODE__80331', 'myeloblast_NODE__80335', 'myeloblast_NODE__23047', 'myeloblast_NODE__90678', 'myeloblast_NODE__8907', 'myeloblast_NODE__54910', 'myeloblast_NODE__23513', 'myeloblast_NODE__11186', 'myeloblast_NODE__9463', 'myeloblast_NODE__719', 'myeloblast_NODE__718', 'myeloblast_NODE__2919', 'myeloblast_NODE__11188', 'myeloblast_NODE__714', 'myeloblast_NODE__712', 'myeloblast_NODE__1794', 'myeloblast_NODE__8764', 'myeloblast_NODE__7128', 'myeloblast_NODE__57048', 'myeloblast_NODE__7126', 'myeloblast_NODE__93100', 'myeloblast_NODE__7124', 'myeloblast_NODE__6845', 'myeloblast_NODE__79133', 'myeloblast_NODE__283149', 'myeloblast_NODE__5300', 'myeloblast_NODE__1062', 'myeloblast_NODE__5307', 'myeloblast_NODE__84233', 'myeloblast_NODE__84231', 'myeloblast_NODE__1666', 'myeloblast_NODE__1660', 'myeloblast_NODE__30851', 'myeloblast_NODE__6591', 'myeloblast_NODE__595', 'myeloblast_NODE__6596', 'myeloblast_NODE__6597', 'myeloblast_NODE__6598', 'myeloblast_NODE__598', 'myeloblast_NODE__8239', 'myeloblast_NODE__79736', 'myeloblast_NODE__3141', 'myeloblast_NODE__3142', 'myeloblast_NODE__3146', 'myeloblast_NODE__3148', 'myeloblast_NODE__2826', 'myeloblast_NODE__3383', 'myeloblast_NODE__5413', 'myeloblast_NODE__23126', 'myeloblast_NODE__4215', 'myeloblast_NODE__4214', 'myeloblast_NODE__4217', 'myeloblast_NODE__4216', 'myeloblast_NODE__4211', 'myeloblast_NODE__4218', 'myeloblast_NODE__444', 'myeloblast_NODE__59272', 'myeloblast_NODE__9846', 'myeloblast_NODE__6934', 'myeloblast_NODE__59277', 'myeloblast_NODE__5771', 'myeloblast_NODE__23542', 'myeloblast_NODE__8697', 'myeloblast_NODE__23095', 'myeloblast_NODE__5774', 'myeloblast_NODE__5777', 'myeloblast_NODE__64216', 'myeloblast_NODE__7703', 'myeloblast_NODE__5579', 'myeloblast_NODE__5578', 'myeloblast_NODE__32', 'myeloblast_NODE__31', 'myeloblast_NODE__37', 'myeloblast_NODE__34', 'myeloblast_NODE__3092', 'myeloblast_NODE__3093', 'myeloblast_NODE__1535', 'myeloblast_NODE__3091', 'myeloblast_NODE__645', 'myeloblast_NODE__649', 'myeloblast_NODE__3265', 'myeloblast_NODE__3099', 'myeloblast_NODE__114822', 'myeloblast_NODE__1027', 'myeloblast_NODE__79595', 'myeloblast_NODE__79594', 'myeloblast_NODE__23327', 'myeloblast_NODE__127933', 'myeloblast_NODE__84897', 'myeloblast_NODE__7343', 'myeloblast_NODE__335', 'myeloblast_NODE__334', 'myeloblast_NODE__336', 'myeloblast_NODE__331', 'myeloblast_NODE__55715', 'myeloblast_NODE__11221', 'myeloblast_NODE__51434', 'myeloblast_NODE__51343', 'myeloblast_NODE__51433', 'myeloblast_NODE__51347', 'myeloblast_NODE__7412', 'myeloblast_NODE__7410', 'myeloblast_NODE__7416', 'myeloblast_NODE__7414', 'myeloblast_NODE__7415', 'myeloblast_NODE__55154', 'myeloblast_NODE__7419', 'myeloblast_NODE__92912', 'myeloblast_NODE__23433', 'myeloblast_NODE__6612', 'myeloblast_NODE__374291', 'myeloblast_NODE__6615', 'myeloblast_NODE__8650', 'myeloblast_NODE__22985', 'myeloblast_NODE__51231', 'myeloblast_NODE__10848', 'myeloblast_NODE__4077', 'myeloblast_NODE__4076', 'myeloblast_NODE__29117', 'myeloblast_NODE__5797', 'myeloblast_NODE__5796', 'myeloblast_NODE__5795', 'myeloblast_NODE__3965', 'myeloblast_NODE__5792', 'myeloblast_NODE__5791', 'myeloblast_NODE__51720', 'myeloblast_NODE__3638', 'myeloblast_NODE__3635', 'myeloblast_NODE__3633', 'myeloblast_NODE__9619', 'myeloblast_NODE__7376', 'myeloblast_NODE__55971', 'myeloblast_NODE__10498', 'myeloblast_NODE__7375', 'myeloblast_NODE__7374', 'myeloblast_NODE__6103', 'myeloblast_NODE__6102', 'myeloblast_NODE__161882', 'myeloblast_NODE__10938', 'myeloblast_NODE__10939', 'myeloblast_NODE__10935', 'myeloblast_NODE__10933', 'myeloblast_NODE__64399', 'myeloblast_NODE__64398', 'myeloblast_NODE__9448', 'myeloblast_NODE__9445', 'myeloblast_NODE__9444', 'myeloblast_NODE__64397', 'myeloblast_NODE__57026', 'myeloblast_NODE__3708', 'myeloblast_NODE__3709', 'myeloblast_NODE__3702', 'myeloblast_NODE__3703', 'myeloblast_NODE__3707', 'myeloblast_NODE__29107', 'myeloblast_NODE__1880', 'myeloblast_NODE__948', 'myeloblast_NODE__949', 'myeloblast_NODE__4664', 'myeloblast_NODE__4665', 'myeloblast_NODE__4915', 'myeloblast_NODE__23326', 'myeloblast_NODE__943', 'myeloblast_NODE__941', 'myeloblast_NODE__9826', 'myeloblast_NODE__64089', 'myeloblast_NODE__80781', 'myeloblast_NODE__57153', 'myeloblast_NODE__57620', 'myeloblast_NODE__10062', 'myeloblast_NODE__57447', 'myeloblast_NODE__5170', 'myeloblast_NODE__5176', 'myeloblast_NODE__5175', 'myeloblast_NODE__10068', 'myeloblast_NODE__57448', 'myeloblast_NODE__3417', 'myeloblast_NODE__22933', 'myeloblast_NODE__7389', 'myeloblast_NODE__135', 'myeloblast_NODE__134', 'myeloblast_NODE__56957', 'myeloblast_NODE__56950', 'myeloblast_NODE__9828', 'myeloblast_NODE__10664', 'myeloblast_NODE__84159', 'myeloblast_NODE__4869', 'myeloblast_NODE__2019', 'myeloblast_NODE__4860', 'myeloblast_NODE__2011', 'myeloblast_NODE__2010', 'myeloblast_NODE__4864', 'myeloblast_NODE__182', 'myeloblast_NODE__9063', 'myeloblast_NODE__246184', 'myeloblast_NODE__133396', 'myeloblast_NODE__5618', 'myeloblast_NODE__54764', 'myeloblast_NODE__10449', 'myeloblast_NODE__10116', 'myeloblast_NODE__10114', 'myeloblast_NODE__10111', 'myeloblast_NODE__84335', 'myeloblast_NODE__3566', 'myeloblast_NODE__7251', 'myeloblast_NODE__3565', 'myeloblast_NODE__22845', 'myeloblast_NODE__3569', 'myeloblast_NODE__10592', 'myeloblast_NODE__89781', 'myeloblast_NODE__54929', 'myeloblast_NODE__4481', 'myeloblast_NODE__162989', 'myeloblast_NODE__10598', 'myeloblast_NODE__27346', 'myeloblast_NODE__54927', 'myeloblast_NODE__54926', 'myeloblast_NODE__8976', 'myeloblast_NODE__6855', 'myeloblast_NODE__6857', 'myeloblast_NODE__6850', 'myeloblast_NODE__2908', 'myeloblast_NODE__84444', 'myeloblast_NODE__84447', 'myeloblast_NODE__7133', 'myeloblast_NODE__81', 'myeloblast_NODE__86', 'myeloblast_NODE__87', 'myeloblast_NODE__25813', 'myeloblast_NODE__5311', 'myeloblast_NODE__5310', 'myeloblast_NODE__5316', 'myeloblast_NODE__8805', 'myeloblast_NODE__1653', 'myeloblast_NODE__1650', 'myeloblast_NODE__9113', 'myeloblast_NODE__585', 'myeloblast_NODE__30844', 'myeloblast_NODE__581', 'myeloblast_NODE__8754', 'myeloblast_NODE__8204', 'myeloblast_NODE__51257', 'myeloblast_NODE__8202', 'myeloblast_NODE__8751', 'myeloblast_NODE__9114', 'myeloblast_NODE__3156', 'myeloblast_NODE__1437', 'myeloblast_NODE__1213', 'myeloblast_NODE__1435', 'myeloblast_NODE__220972', 'myeloblast_NODE__3397', 'myeloblast_NODE__3396', 'myeloblast_NODE__3399', 'myeloblast_NODE__3398', 'myeloblast_NODE__29844', 'myeloblast_NODE__79058', 'myeloblast_NODE__29843', 'myeloblast_NODE__149428', 'myeloblast_NODE__79053', 'myeloblast_NODE__55083', 'myeloblast_NODE__23557', 'myeloblast_NODE__58', 'myeloblast_NODE__185', 'myeloblast_NODE__6929', 'myeloblast_NODE__23081', 'myeloblast_NODE__23087', 'myeloblast_NODE__23085', 'myeloblast_NODE__11151', 'myeloblast_NODE__7716', 'myeloblast_NODE__6522', 'myeloblast_NODE__541468', 'myeloblast_NODE__657', 'myeloblast_NODE__1500', 'myeloblast_NODE__652', 'myeloblast_NODE__22954', 'myeloblast_NODE__3087', 'myeloblast_NODE__79918', 'myeloblast_NODE__23154', 'myeloblast_NODE__25865', 'myeloblast_NODE__8370', 'myeloblast_NODE__23338', 'myeloblast_NODE__5768', 'myeloblast_NODE__8575', 'myeloblast_NODE__5894', 'myeloblast_NODE__5898', 'myeloblast_NODE__5899', 'myeloblast_NODE__11236', 'myeloblast_NODE__7408', 'myeloblast_NODE__55145', 'myeloblast_NODE__7402', 'myeloblast_NODE__51393', 'myeloblast_NODE__51454', 'myeloblast_NODE__55361', 'myeloblast_NODE__942', 'myeloblast_NODE__100287171', 'myeloblast_NODE__149951', 'myeloblast_NODE__23428', 'myeloblast_NODE__23429', 'myeloblast_NODE__23424', 'myeloblast_NODE__6624', 'myeloblast_NODE__6623', 'myeloblast_NODE__84938', 'myeloblast_NODE__51246', 'myeloblast_NODE__4000', 'myeloblast_NODE__55705', 'myeloblast_NODE__320', 'myeloblast_NODE__64127', 'myeloblast_NODE__3975', 'myeloblast_NODE__324', 'myeloblast_NODE__55703', 'myeloblast_NODE__328', 'myeloblast_NODE__329', 'myeloblast_NODE__9898', 'myeloblast_NODE__3621', 'myeloblast_NODE__3622', 'myeloblast_NODE__3624', 'myeloblast_NODE__3627', 'myeloblast_NODE__23210', 'myeloblast_NODE__55967', 'myeloblast_NODE__57154', 'myeloblast_NODE__57706', 'myeloblast_NODE__2335', 'myeloblast_NODE__64083', 'myeloblast_NODE__57708', 'myeloblast_NODE__6885', 'myeloblast_NODE__51667', 'myeloblast_NODE__51665', 'myeloblast_NODE__27352', 'myeloblast_NODE__55998', 'myeloblast_NODE__3714', 'myeloblast_NODE__3717', 'myeloblast_NODE__9479', 'myeloblast_NODE__3710', 'myeloblast_NODE__3718', 'myeloblast_NODE__9474', 'myeloblast_NODE__4478', 'myeloblast_NODE__6002', 'myeloblast_NODE__4678', 'myeloblast_NODE__4905', 'myeloblast_NODE__6009', 'myeloblast_NODE__57325', 'myeloblast_NODE__2244', 'myeloblast_NODE__57142', 'myeloblast_NODE__2241', 'myeloblast_NODE__57630', 'myeloblast_NODE__2243', 'myeloblast_NODE__9270', 'myeloblast_NODE__994', 'myeloblast_NODE__997', 'myeloblast_NODE__996', 'myeloblast_NODE__7391', 'myeloblast_NODE__10728', 'myeloblast_NODE__10059', 'myeloblast_NODE__10058', 'myeloblast_NODE__10725', 'myeloblast_NODE__5147', 'myeloblast_NODE__63826', 'myeloblast_NODE__10054', 'myeloblast_NODE__7398', 'myeloblast_NODE__10051', 'myeloblast_NODE__22920', 'myeloblast_NODE__7082', 'myeloblast_NODE__128', 'myeloblast_NODE__121504', 'myeloblast_NODE__5341', 'myeloblast_NODE__7957', 'myeloblast_NODE__51592', 'myeloblast_NODE__22930', 'myeloblast_NODE__54840', 'myeloblast_NODE__56923', 'myeloblast_NODE__54843', 'myeloblast_NODE__79872', 'myeloblast_NODE__2068', 'myeloblast_NODE__2069', 'myeloblast_NODE__10613', 'myeloblast_NODE__26001', 'myeloblast_NODE__26000', 'myeloblast_NODE__6314', 'myeloblast_NODE__10616', 'myeloblast_NODE__2060', 'myeloblast_NODE__55031', 'myeloblast_NODE__2064', 'myeloblast_NODE__2065', 'myeloblast_NODE__85413', 'myeloblast_NODE__2067', 'myeloblast_NODE__91404', 'myeloblast_NODE__22937', 'myeloblast_NODE__9097', 'myeloblast_NODE__9092', 'myeloblast_NODE__9093', 'myeloblast_NODE__9308', 'myeloblast_NODE__9655', 'myeloblast_NODE__10432', 'myeloblast_NODE__10437', 'myeloblast_NODE__84321', 'myeloblast_NODE__3579', 'myeloblast_NODE__60626', 'myeloblast_NODE__5090', 'myeloblast_NODE__3576', 'myeloblast_NODE__5094', 'myeloblast_NODE__22853', 'myeloblast_NODE__7249', 'myeloblast_NODE__3572', 'myeloblast_NODE__22836', 'myeloblast_NODE__80351', 'myeloblast_NODE__2934', 'myeloblast_NODE__2935', 'myeloblast_NODE__2932', 'myeloblast_NODE__2931', 'myeloblast_NODE__10540', 'myeloblast_NODE__5320', 'myeloblast_NODE__10542', 'myeloblast_NODE__27429', 'myeloblast_NODE__219771', 'myeloblast_NODE__1647', 'myeloblast_NODE__1643', 'myeloblast_NODE__1642', 'myeloblast_NODE__1649', 'myeloblast_NODE__54623', 'myeloblast_NODE__8813', 'myeloblast_NODE__285464', 'myeloblast_NODE__112574', 'myeloblast_NODE__8818', 'myeloblast_NODE__579', 'myeloblast_NODE__578', 'myeloblast_NODE__11091', 'myeloblast_NODE__604', 'myeloblast_NODE__573', 'myeloblast_NODE__572', 'myeloblast_NODE__8741', 'myeloblast_NODE__4361', 'myeloblast_NODE__54850', 'myeloblast_NODE__2806', 'myeloblast_NODE__3163', 'myeloblast_NODE__2805', 'myeloblast_NODE__7096', 'myeloblast_NODE__7097', 'myeloblast_NODE__7094', 'myeloblast_NODE__1429', 'myeloblast_NODE__134549', 'myeloblast_NODE__7098', 'myeloblast_NODE__7099', 'myeloblast_NODE__2150', 'myeloblast_NODE__29789', 'myeloblast_NODE__23522', 'myeloblast_NODE__375056', 'myeloblast_NODE__23787', 'myeloblast_NODE__1355', 'myeloblast_NODE__197131', 'myeloblast_NODE__51529', 'myeloblast_NODE__5552', 'myeloblast_NODE__51523', 'myeloblast_NODE__9683', 'myeloblast_NODE__6484', 'myeloblast_NODE__7879', 'myeloblast_NODE__25855', 'myeloblast_NODE__11143', 'myeloblast_NODE__11140', 'myeloblast_NODE__58508', 'myeloblast_NODE__114803', 'myeloblast_NODE__1511', 'myeloblast_NODE__1510', 'myeloblast_NODE__1512', 'myeloblast_NODE__8361', 'myeloblast_NODE__8360', 'myeloblast_NODE__8363', 'myeloblast_NODE__8362', 'myeloblast_NODE__8365', 'myeloblast_NODE__8364', 'myeloblast_NODE__8367', 'myeloblast_NODE__8366', 'myeloblast_NODE__8368', 'myeloblast_NODE__10868', 'myeloblast_NODE__8567', 'myeloblast_NODE__30815', 'myeloblast_NODE__5880', 'myeloblast_NODE__5887', 'myeloblast_NODE__23186', 'myeloblast_NODE__93649', 'myeloblast_NODE__23184', 'myeloblast_NODE__23189', 'myeloblast_NODE__23636', 'myeloblast_NODE__23633', 'myeloblast_NODE__10845', 'myeloblast_NODE__6558', 'myeloblast_NODE__165140', 'myeloblast_NODE__25923', 'myeloblast_NODE__5978', 'myeloblast_NODE__3182', 'myeloblast_NODE__7472', 'myeloblast_NODE__6944', 'myeloblast_NODE__55352', 'myeloblast_NODE__55357', 'myeloblast_NODE__55600', 'myeloblast_NODE__201595', 'myeloblast_NODE__23451', 'myeloblast_NODE__51701', 'myeloblast_NODE__51256', 'myeloblast_NODE__55284', 'myeloblast_NODE__51741', 'myeloblast_NODE__356', 'myeloblast_NODE__51094', 'myeloblast_NODE__351', 'myeloblast_NODE__3984', 'myeloblast_NODE__51099', 'myeloblast_NODE__7508', 'myeloblast_NODE__3981', 'myeloblast_NODE__3983', 'myeloblast_NODE__10444', 'myeloblast_NODE__6120', 'myeloblast_NODE__253980', 'myeloblast_NODE__2321', 'myeloblast_NODE__150094', 'myeloblast_NODE__4700', 'myeloblast_NODE__10959', 'myeloblast_NODE__10952', 'myeloblast_NODE__283', 'myeloblast_NODE__140576', 'myeloblast_NODE__10956', 'myeloblast_NODE__284', 'myeloblast_NODE__10955', 'myeloblast_NODE__8675', 'myeloblast_NODE__267', 'myeloblast_NODE__6015', 'myeloblast_NODE__4643', 'myeloblast_NODE__4646', 'myeloblast_NODE__2494', 'myeloblast_NODE__4644', 'myeloblast_NODE__83439', 'myeloblast_NODE__63924', 'myeloblast_NODE__9263', 'myeloblast_NODE__9262', 'myeloblast_NODE__9261', 'myeloblast_NODE__989', 'myeloblast_NODE__64285', 'myeloblast_NODE__55636', 'myeloblast_NODE__5155', 'myeloblast_NODE__124583', 'myeloblast_NODE__5156', 'myeloblast_NODE__7874', 'myeloblast_NODE__113', 'myeloblast_NODE__22918', 'myeloblast_NODE__118', 'myeloblast_NODE__23212', 'myeloblast_NODE__84132', 'myeloblast_NODE__222484', 'myeloblast_NODE__2782', 'myeloblast_NODE__90780', 'myeloblast_NODE__4486', 'myeloblast_NODE__9464', 'myeloblast_NODE__10600', 'myeloblast_NODE__57045', 'myeloblast_NODE__26013', 'myeloblast_NODE__210', 'myeloblast_NODE__2073', 'myeloblast_NODE__2072', 'myeloblast_NODE__2071', 'myeloblast_NODE__6303', 'myeloblast_NODE__2074', 'myeloblast_NODE__54892', 'myeloblast_NODE__10131', 'myeloblast_NODE__54899', 'myeloblast_NODE__54541', 'myeloblast_NODE__9648', 'myeloblast_NODE__9646', 'myeloblast_NODE__10425', 'myeloblast_NODE__3508', 'myeloblast_NODE__7270', 'myeloblast_NODE__22862', 'myeloblast_NODE__22861', 'myeloblast_NODE__5087', 'myeloblast_NODE__54431', 'myeloblast_NODE__54434', 'myeloblast_NODE__6832', 'myeloblast_NODE__84661', 'myeloblast_NODE__2921', 'myeloblast_NODE__2920', 'myeloblast_NODE__23580', 'myeloblast_NODE__123803', 'myeloblast_NODE__2926', 'myeloblast_NODE__5333', 'myeloblast_NODE__5335', 'myeloblast_NODE__5339', 'myeloblast_NODE__8411', 'myeloblast_NODE__1984', 'myeloblast_NODE__1636', 'myeloblast_NODE__3219', 'myeloblast_NODE__8820', 'myeloblast_NODE__8829', 'myeloblast_NODE__100137049', 'myeloblast_NODE__54708', 'myeloblast_NODE__2811', 'myeloblast_NODE__8772', 'myeloblast_NODE__8773', 'myeloblast_NODE__566', 'myeloblast_NODE__567', 'myeloblast_NODE__3171', 'myeloblast_NODE__79077', 'myeloblast_NODE__5429', 'myeloblast_NODE__7089', 'myeloblast_NODE__5424', 'myeloblast_NODE__5426', 'myeloblast_NODE__5423', 'myeloblast_NODE__5422', 'myeloblast_NODE__255488', 'myeloblast_NODE__5498', 'myeloblast_NODE__728', 'myeloblast_NODE__6497', 'myeloblast_NODE__23534', 'myeloblast_NODE__79654', 'myeloblast_NODE__4247', 'myeloblast_NODE__3309', 'myeloblast_NODE__6498', 'myeloblast_NODE__4240', 'myeloblast_NODE__5520', 'myeloblast_NODE__5494', 'myeloblast_NODE__64400', 'myeloblast_NODE__5524', 'myeloblast_NODE__5525', 'myeloblast_NODE__5527', 'myeloblast_NODE__3304', 'myeloblast_NODE__7295', 'myeloblast_NODE__11171', 'myeloblast_NODE__7132', 'myeloblast_NODE__11176', 'myeloblast_NODE__48', 'myeloblast_NODE__25847', 'myeloblast_NODE__43', 'myeloblast_NODE__7468', 'myeloblast_NODE__1292', 'myeloblast_NODE__1291', 'myeloblast_NODE__1296', 'myeloblast_NODE__1295', 'myeloblast_NODE__2914', 'myeloblast_NODE__8398', 'myeloblast_NODE__8394', 'myeloblast_NODE__8396', 'myeloblast_NODE__8554', 'myeloblast_NODE__51466', 'myeloblast_NODE__23624', 'myeloblast_NODE__23191', 'myeloblast_NODE__55160', 'myeloblast_NODE__59338', 'myeloblast_NODE__6548', 'myeloblast_NODE__472', 'myeloblast_NODE__473', 'myeloblast_NODE__8482', 'myeloblast_NODE__1365', 'myeloblast_NODE__476', 'myeloblast_NODE__25939', 'myeloblast_NODE__3190', 'myeloblast_NODE__25937', 'myeloblast_NODE__7466', 'myeloblast_NODE__25932']\n"
     ]
    }
   ],
   "source": [
    "print(nodelist3)"
   ]
  },
  {
   "cell_type": "code",
   "execution_count": 1097,
   "metadata": {},
   "outputs": [
    {
     "name": "stdout",
     "output_type": "stream",
     "text": [
      "[[-0.00928305  0.08906404  0.01279575 ... -0.10316301  0.14680155\n",
      "   0.01678375]\n",
      " [-0.00127177  0.01616295  0.00160502 ... -0.0146932   0.01936373\n",
      "   0.00485687]\n",
      " [ 0.00496419  0.03336686  0.00348051 ... -0.01034016  0.02759969\n",
      "   0.0044893 ]\n",
      " ...\n",
      " [-0.01064575  0.1335613   0.01644972 ... -0.1308118   0.18575732\n",
      "   0.02903482]\n",
      " [-0.00961077  0.12135303  0.01522327 ... -0.11768153  0.17091779\n",
      "   0.02513776]\n",
      " [-0.01401173  0.10420451  0.01298642 ... -0.1227445   0.16324645\n",
      "   0.02612053]]\n"
     ]
    }
   ],
   "source": [
    "embedding_matrix3 = np.zeros((vecs3,dims3))\n",
    "\n",
    "for i in range(len(nodelist3)):\n",
    "    embedding_matrix3[i]=embeddings_index3[nodelist3[i]]\n",
    "#print(embedding_matrix.shape)\n",
    "print(embedding_matrix3)"
   ]
  },
  {
   "cell_type": "code",
   "execution_count": 1098,
   "metadata": {},
   "outputs": [],
   "source": [
    "def node2id_1(node):\n",
    "    return nodelist1.index(node)\n",
    "def id2node_1(idx):\n",
    "    return nodelist1[idx]"
   ]
  },
  {
   "cell_type": "code",
   "execution_count": 1099,
   "metadata": {},
   "outputs": [],
   "source": [
    "def node2id_2(node):\n",
    "    return nodelist2.index(node)\n",
    "def id2node_2(idx):\n",
    "    return nodelist2[idx]"
   ]
  },
  {
   "cell_type": "code",
   "execution_count": 1100,
   "metadata": {},
   "outputs": [],
   "source": [
    "def node2id_3(node):\n",
    "    return nodelist3.index(node)\n",
    "def id2node_3(idx):\n",
    "    return nodelist3[idx]"
   ]
  },
  {
   "cell_type": "code",
   "execution_count": 1270,
   "metadata": {
    "scrolled": false
   },
   "outputs": [
    {
     "name": "stdout",
     "output_type": "stream",
     "text": [
      "myeloblast_NODE__54977\n",
      "myeloid_stemcell_NODE__54977\n",
      "myeloblast_NODE__10316\n",
      "myeloid_stemcell_NODE__10316\n",
      "myeloblast_NODE__9048\n",
      "myeloid_stemcell_NODE__9048\n",
      "myeloblast_NODE__163702\n",
      "myeloid_stemcell_NODE__163702\n"
     ]
    }
   ],
   "source": [
    "embedding_matrix4 = np.zeros((vecs1, dims1))\n",
    "for node in nodelist1:\n",
    "    mainrep = embedding_matrix1[node2id_1(node)]\n",
    "    if('myeloblast_NODE__' + node not in nodelist3):\n",
    "        print('myeloblast_NODE__' + node )  \n",
    "    else:\n",
    "        level1rep = 2.5*embedding_matrix3[node2id_3('myeloblast_NODE__' + node)]\n",
    "                                                    \n",
    "    if('myeloid_stemcell_NODE__' + node not in nodelist2):\n",
    "        print('myeloid_stemcell_NODE__' + node)  \n",
    "    else:\n",
    "        level2rep = 1.5*embedding_matrix2[node2id_2('myeloid_stemcell_NODE__' + node)] \n",
    "        \n",
    "    level12rep = np.add(level1rep,level2rep)\n",
    "    embedding_matrix4[node2id_1(node)] = np.add(mainrep, level12rep)\n",
    "     \n",
    "    \n",
    "    \n",
    "    "
   ]
  },
  {
   "cell_type": "code",
   "execution_count": 1271,
   "metadata": {},
   "outputs": [
    {
     "name": "stdout",
     "output_type": "stream",
     "text": [
      "[[ 0.03832637  0.94934532  0.53479579 ... -0.83406707  1.12234139\n",
      "  -0.13796908]\n",
      " [ 0.13823044  1.22281909  0.19672752 ... -0.43778307  0.83076256\n",
      "  -0.10587778]\n",
      " [-0.15060071  0.33627145  0.17586825 ...  0.01568626 -0.12661196\n",
      "  -0.16922227]\n",
      " ...\n",
      " [-0.1447769   0.79484459  0.0902822  ... -0.4132445   0.84014296\n",
      "  -0.05386418]\n",
      " [ 0.12792576  0.59835671  0.19929514 ... -0.44054339  0.80976735\n",
      "   0.06986912]\n",
      " [-0.04125168  0.5340907   0.12288191 ... -0.36273519  0.65159177\n",
      "   0.02353154]]\n"
     ]
    }
   ],
   "source": [
    "print(embedding_matrix4)"
   ]
  },
  {
   "cell_type": "code",
   "execution_count": 1272,
   "metadata": {},
   "outputs": [
    {
     "data": {
      "text/plain": [
       "'f = open(\"C:\\\\Users\\\\320052308\\\\minorproject\\\\embeddings\\\\ohmnet\\\\enriched_basophil.tsv\",\"w\")\\nfor i in embedding_matrix4:\\n    for j in i:\\n        string = str(j) + \"\\t\"\\n        f.write(string)\\n    f.write(\"\\n\")\\nf.close()'"
      ]
     },
     "execution_count": 1272,
     "metadata": {},
     "output_type": "execute_result"
    }
   ],
   "source": [
    "'''f = open(\"C:\\\\Users\\\\320052308\\\\minorproject\\\\embeddings\\\\ohmnet\\\\enriched_basophil.tsv\",\"w\")\n",
    "for i in embedding_matrix4:\n",
    "    for j in i:\n",
    "        string = str(j) + \"\\t\"\n",
    "        f.write(string)\n",
    "    f.write(\"\\n\")\n",
    "f.close()'''"
   ]
  },
  {
   "cell_type": "code",
   "execution_count": 1273,
   "metadata": {},
   "outputs": [],
   "source": [
    "def node2id(node):\n",
    "    return nodelist.index(node)\n",
    "def id2node(idx):\n",
    "    return nodelist[idx]"
   ]
  },
  {
   "cell_type": "code",
   "execution_count": 1274,
   "metadata": {},
   "outputs": [
    {
     "name": "stdout",
     "output_type": "stream",
     "text": [
      "[[   0    1]\n",
      " [   2    3]\n",
      " [   4    5]\n",
      " ...\n",
      " [ 237   73]\n",
      " [1155  471]\n",
      " [ 543 1252]]\n"
     ]
    }
   ],
   "source": [
    "infile = open(\"C:\\\\Users\\\\320052308\\\\minorproject\\\\blood-data-ohmnet\\\\edgelists\\\\neutrophil.edgelist\", 'r')\n",
    "\n",
    "edgelist = []\n",
    "for line in infile:\n",
    "    edge1 = line.split()\n",
    "    #print(edge1)\n",
    "    edge1[0] = node2id_1(edge1[0])\n",
    "    edge1[1] = node2id_1(edge1[1])\n",
    "    edgelist.append(edge1)\n",
    "    \n",
    "edgematrix = np.stack(edgelist)\n",
    "          \n",
    "print(edgematrix)"
   ]
  },
  {
   "cell_type": "code",
   "execution_count": 1275,
   "metadata": {},
   "outputs": [
    {
     "name": "stdout",
     "output_type": "stream",
     "text": [
      "26340\n"
     ]
    }
   ],
   "source": [
    "train_split= 0.6*(len(edgematrix))\n",
    "train_split = int(train_split)\n",
    "\n",
    "test_split = 0.3*(len(edgematrix))\n",
    "test_split = int(test_split)\n",
    "\n",
    "val_split = 0.1*(len(edgematrix))\n",
    "val_split = int(val_split)\n",
    "\n",
    "print(test_split + train_split + val_split)"
   ]
  },
  {
   "cell_type": "code",
   "execution_count": 1276,
   "metadata": {},
   "outputs": [
    {
     "name": "stdout",
     "output_type": "stream",
     "text": [
      "[[   0    1]\n",
      " [   2    3]\n",
      " [   4    5]\n",
      " ...\n",
      " [  98  537]\n",
      " [ 707  837]\n",
      " [ 244 1971]]\n"
     ]
    }
   ],
   "source": [
    "train_edges = edgematrix[0:train_split]\n",
    "print(train_edges)"
   ]
  },
  {
   "cell_type": "code",
   "execution_count": 1277,
   "metadata": {},
   "outputs": [
    {
     "name": "stdout",
     "output_type": "stream",
     "text": [
      "[[116 526]\n",
      " [751   0]\n",
      " [108  48]\n",
      " ...\n",
      " [284 145]\n",
      " [564 117]\n",
      " [212  51]]\n"
     ]
    }
   ],
   "source": [
    "test_edges = edgematrix[train_split:train_split + test_split]\n",
    "print(test_edges)"
   ]
  },
  {
   "cell_type": "code",
   "execution_count": 1278,
   "metadata": {},
   "outputs": [
    {
     "name": "stdout",
     "output_type": "stream",
     "text": [
      "[[ 263 2015]\n",
      " [ 143  116]\n",
      " [1310  589]\n",
      " ...\n",
      " [ 237   73]\n",
      " [1155  471]\n",
      " [ 543 1252]]\n"
     ]
    }
   ],
   "source": [
    "val_edges = edgematrix[train_split + test_split:train_split + test_split + val_split]\n",
    "print(val_edges)"
   ]
  },
  {
   "cell_type": "code",
   "execution_count": 1279,
   "metadata": {},
   "outputs": [
    {
     "name": "stdout",
     "output_type": "stream",
     "text": [
      "15804\n"
     ]
    }
   ],
   "source": [
    "print(len(train_edges))"
   ]
  },
  {
   "cell_type": "code",
   "execution_count": 1280,
   "metadata": {},
   "outputs": [
    {
     "name": "stdout",
     "output_type": "stream",
     "text": [
      "7902\n"
     ]
    }
   ],
   "source": [
    "print(len(test_edges))"
   ]
  },
  {
   "cell_type": "code",
   "execution_count": 1281,
   "metadata": {},
   "outputs": [
    {
     "name": "stdout",
     "output_type": "stream",
     "text": [
      "2634\n"
     ]
    }
   ],
   "source": [
    "print(len(val_edges))"
   ]
  },
  {
   "cell_type": "code",
   "execution_count": 1282,
   "metadata": {},
   "outputs": [
    {
     "name": "stdout",
     "output_type": "stream",
     "text": [
      "26340\n"
     ]
    }
   ],
   "source": [
    "print(len(train_edges) + len(test_edges) + len(val_edges))"
   ]
  },
  {
   "cell_type": "code",
   "execution_count": 1283,
   "metadata": {},
   "outputs": [],
   "source": [
    "dataset=open(\"C:\\\\Users\\\\320052308\\\\minorproject\\\\blood-data-ohmnet\\\\edgelists\\\\n_neutrophil.txt\", 'rb')\n",
    "G=nx.read_edgelist(dataset)\n",
    "nodelist = list(G.nodes)"
   ]
  },
  {
   "cell_type": "code",
   "execution_count": 1284,
   "metadata": {},
   "outputs": [
    {
     "name": "stdout",
     "output_type": "stream",
     "text": [
      "['2547', '4728', '9031', '5796', '6047', '7468', '2746', '2150', '11030', '5119', '6194', '5819', '3275', '1718', '79718', '3801', '8440', '10277', '81542', '7422', '51185', '3240', '6497', '5991', '8517', '7159', '6885', '538', '5518', '10869', '249', '7155', '5802', '79661', '3303', '54332', '4869', '54968', '22861', '8396', '10664', '10299', '2767', '1120', '3141', '4824', '26271', '23133', '23210', '3309', '23303', '8202', '23047', '55183', '54962', '6655', '5268', '7052', '10497', '6199', '79577', '283149', '3627', '6786', '6515', '51343', '4296', '1020', '5155', '1978', '11135', '23476', '241', '4952', '51196', '9218', '51499', '7358', '26610', '5578', '3936', '26272', '29965', '3146', '2887', '5524', '57679', '3297', '10902', '2946', '5870', '10938', '868', '9557', '285464', '9371', '6376', '2969', '659', '3039', '22821', '11328', '55145', '23513', '7494', '5867', '5607', '123169', '5245', '1387', '3725', '116985', '8725', '79017', '10253', '79158', '3667', '80824', '4843', '7421', '79084', '23522', '11236', '10616', '11034', '51135', '283', '56984', '51162', '9828', '2950', '5915', '6477', '79184', '85363', '7163', '4087', '6881', '4615', '6257', '1909', '1453', '6717', '51144', '55326', '10998', '6574', '1062', '10623', '57099', '6895', '10477', '8976', '10564', '1786', '648', '2064', '4953', '22893', '23162', '57620', '51111', '1601', '811', '10808', '9263', '54602', '389', '93986', '27236', '8772', '10397', '51738', '112398', '780', '5598', '9053', '63971', '55971', '652', '10952', '754', '6615', '7334', '5527', '10765', '3312', '27230', '23598', '10488', '2067', '5782', '3858', '2702', '7189', '5176', '5339', '5429', '9826', '79831', '5683', '6523', '9646', '10487', '939', '51466', '51322', '64399', '23095', '613', '7067', '805', '9372', '6613', '10114', '23557', '11033', '10565', '3082', '56998', '4780', '112574', '7414', '2241', '375790', '85464', '9156', '10652', '6464', '25937', '10049', '11284', '28962', '4899', '3182', '3622', '7342', '51429', '5478', '6598', '2355', '91', '4790', '5954', '5469', '374291', '55689', '7267', '1942', '10848', '2948', '55627', '23633', '6804', '10592', '5291', '4217', '6404', '7046', '1031', '57591', '116143', '22954', '7518', '51009', '57026', '1195', '2889', '29945', '56262', '5664', '7529', '7041', '11344', '4163', '54820', '506', '30001', '29110', '1471', '23304', '11186', '5886', '7320', '2494', '5579', '92', '6711', '201161', '302', '10432', '10540', '2589', '1956', '676', '6198', '51347', '2022', '51379', '4054', '2625', '5817', '351', '54541', '55967', '10449', '11130', '9804', '135', '1270', '6845', '64750', '162989', '7391', '8650', '6597', '2920', '11047', '26000', '10613', '6484', '678', '9341', '153090', '58488', '1729', '4358', '26130', '657', '2060', '55072', '3832', '10935', '55023', '23368', '2010', '2071', '26227', '51194', '83933', '1104', '23649', '11104', '8085', '10498', '5395', '10087', '6904', '6772', '57332', '30009', '23370', '6210', '8891', '3315', '8273', '10159', '54106', '3320', '8879', '5970', '3431', '253980', '2997', '2209', '150290', '11285', '8021', '2584', '7018', '1611', '847', '51119', '9516', '91147', '93974', '8813', '55636', '1849', '6883', '8315', '22809', '11315', '3843', '7408', '2530', '694', '23376', '267', '5608', '8738', '64324', '5289', '55031', '3326', '5908', '5460', '4864', '5936', '6050', '3099', '3665', '5500', '5721', '1464', '55705', '10458', '7013', '2683', '6251', '983', '6832', '4851', '29115', '25824', '2549', '637', '50488', '960', '3703', '834', '1030', '2023', '3708', '1666', '4853', '6789', '55240', '1510', '55004', '30844', '9604', '4297', '23673', '4643', '54974', '8563', '64422', '4240', '10956', '2004', '3091', '6286', '54899', '57680', '5311', '10955', '7416', '9324', '8805', '9913', '4091', '4968', '23774', '2688', '5831', '165918', '5887', '10725', '9445', '9101', '6259', '54623', '1029', '23433', '4792', '7410', '891', '163702', '1213', '10579', '79631', '3654', '3659', '4193', '3913', '5792', '1979', '57506', '8834', '1540', '25847', '8567', '6917', '11076', '59272', '7443', '4665', '11171', '7019', '10856', '197131', '23186', '2626', '6487', '1855', '6672', '3624', '26270', '8368', '5610', '653519', '1191', '5532', '6777', '25820', '84282', '3838', '5351', '4331', '585', '2744', '2011', '8820', '54910', '65018', '51667', '1147', '10425', '1832', '29937', '7251', '3911', '22948', '84817', '4000', '3875', '87', '348', '23236', '6241', '6890', '498', '81565', '51684', '9252', '7857', '3093', '55361', '9618', '54984', '3983', '9092', '22862', '8694', '1604', '9114', '83548', '329', '9048', '6737', '1355', '334', '4218', '6648', '8366', '1457', '1072', '7025', '54872', '3818', '6742', '22800', '55743', '81930', '4683', '6871', '4678', '7466', '11151', '56957', '34', '5791', '57610', '5770', '5609', '6651', '23126', '10787', '8313', '26224', '2885', '7323', '5217', '665', '10899', '9079', '84444', '10228', '23405', '8850', '2189', '80020', '27102', '4846', '7057', '10193', '6045', '2898', '23640', '546', '10252', '347734', '7957', '8503', '5191', '9344', '1500', '124583', '4690', '56652', '6416', '4664', '8295', '11176', '4627', '27035', '7322', '6688', '51283', '5094', '51773', '26234', '2874', '8892', '5537', '7096', '114609', '2634', '64786', '6558', '3984', '23560', '8312', '3685', '7157', '64219', '3840', '10059', '23515', '80725', '23161', '81844', '5566', '7374', '2537', '6591', '8361', '26519', '23032', '4055', '2192', '6872', '5836', '56913', '579', '10769', '252983', '8837', '54862', '4763', '8398', '4646', '3364', '23509', '10452', '58526', '2771', '54843', '64083', '8829', '382', '51455', '79176', '55081', '667', '3837', '8773', '54556', '5783', '1937', '27338', '11325', '10933', '6647', '1730', '7442', '3251', '3612', '4085', '2395', '3915', '7030', '8818', '3717', '7225', '8416', '64805', '9690', '1174', '55624', '7037', '899', '3299', '1605', '9545', '6877', '7205', '51378', '10075', '55600', '133746', '836', '23049', '7392', '10106', '5604', '27154', '26524', '6720', '57669', '64798', '1760', '55856', '57092', '7709', '406', '54471', '58533', '8654', '4722', '240', '2734', '9943', '9043', '11059', '9855', '7528', '51076', '10645', '55159', '57646', '64428', '83737', '55075', '57048', '3476', '4318', '7164', '59338', '81622', '134', '4628', '9113', '1487', '7531', '54977', '4094', '8625', '928', '22882', '9960', '3065', '6314', '5898', '2776', '51257', '6944', '29117', '2119', '56970', '6275', '3925', '9994', '4257', '55128', '966', '353376', '5296', '55250', '51026', '5641', '8717', '6774', '51474', '3669', '64599', '11060', '23592', '6729', '16', '6386', '55819', '638', '30851', '148022', '5520', '340061', '26277', '22872', '10272', '27284', '8425', '51181', '23295', '26973', '541468', '51099', '2335', '23263', '8314', '140885', '64783', '127933', '26001', '9451', '5536', '5170', '835', '8365', '2590', '2054', '10600', '7072', '353174', '5444', '7508', '27097', '23542', '572', '7188', '3981', '336', '8527', '55083', '5587', '54902', '6812', '10572', '6196', '11160', '100137049', '9097', '3688', '163126', '5911', '23705', '7532', '8682', '4688', '222068', '8467', '4124', '306', '2131', '64754', '79053', '7148', '83871', '51377', '1511', '3308', '55703', '1429', '7428', '10782', '90678', '5775', '53615', '84524', '5295', '353116', '8766', '23759', '2145', '30845', '3040', '2768', '25898', '10210', '9479', '7703', '6272', '20', '6470', '1650', '331', '1105', '56302', '150684', '51393', '11331', '5966', '3621', '5194', '1129', '22853', '26013', '51434', '51619', '409', '79791', '1032', '8897', '4076', '58508', '57178', '7043', '5873', '1676', '641', '929', '1810', '80854', '29108', '22976', '7328', '6249', '5797', '7453', '581', '63916', '309', '1153', '3398', '26999', '5074', '9145', '51246', '80762', '566', '6240', '1622', '51592', '55201', '23499', '3300', '161882', '55432', '3043', '90780', '80781', '10347', '6189', '8575', '80312', '127281', '9856', '10577', '10201', '7187', '22930', '8881', '23087', '5307', '9049', '8890', '23085', '5771', '8613', '5352', '6654', '51621', '8841', '124641', '22920', '7332', '9133', '4041', '10381', '27', '8751', '55715', '86', '25976', '961', '81846', '27346', '3956', '55294', '5058', '323', '9474', '28988', '5467', '989', '8924', '4830', '6623', '115703', '25805', '2826', '4915', '8360', '5033', '26574', '55740', '27018', '56940', '1535', '7879', '102', '5018', '7248', '54850', '26276', '3655', '8452', '29843', '1936', '4520', '10010', '4850', '6764', '239', '6814', '23318', '1495', '1291', '10621', '11128', '9767', '23481', '80335', '112939', '23409', '3396', '5580', '22836', '51100', '8089', '8737', '7249', '56943', '4976', '2305', '291', '3992', '3337', '10165', '64151', '55929', '59307', '285381', '9230', '50511', '54822', '10105', '1874', '7184', '4983', '488', '9978', '23429', '4086', '55503', '79885', '5335', '1019', '8609', '57153', '5921', '7324', '60485', '55284', '4691', '2548', '677', '1831', '10527', '4204', '5603', '114822', '57634', '7048', '5265', '204851', '5880', '58487', '9588', '54206', '10197', '7402', '64854', '57551', '4189', '8877', '861', '7321', '23308', '2140', '84661', '391', '27429', '8408', '2629', '6009', '7375', '9361', '114803', '6901', '2954', '64285', '301', '1739', '8364', '11221', '91949', '1119', '23654', '6103', '23077', '220972', '55327', '84335', '9184', '5025', '578', '5899', '10622', '10076', '92912', '320', '2908', '1028', '23184', '6188', '79077', '9131', '2534', '51755', '896', '284217', '4616', '29979', '7398', '54880', '29127', '10156', '10522', '84340', '373', '84901', '2736', '6868', '1856', '151636', '675', '2931', '51366', '6670', '9020', '889', '7337', '1627', '6303', '8646', '55752', '864', '55471', '4258', '7419', '54795', '10014', '10062', '23770', '5364', '8878', '7716', '57706', '9191', '7341', '6667', '7423', '6722', '11052', '4211', '10507', '8726', '27005', '4040', '7220', '5871', '8861', '2034', '2040', '2045', '4092', '497661', '83706', '5900', '3611', '5705', '1232', '1958', '3707', '51024', '5716', '64802', '10131', '54904', '55357', '4170', '6683', '4775', '64121', '149951', '8359', '6284', '3681', '5316', '10580', '10393', '2747', '26994', '64682', '7431', '51701', '51552', '223', '5501', '51147', '29072', '56923', '5912', '84619', '51523', '25945', '4133', '573', '89122', '51160', '10728', '7335', '29882', '5581', '9093', '8945', '672', '3954', '6602', '29', '57142', '9025', '5925', '51022', '63826', '6792', '28996', '9525', '23071', '2956', '10206', '9183', '3417', '3579', '79654', '3912', '2729', '79840', '4215', '1788', '140576', '375056', '23411', '5728', '54107', '6049', '10379', '9536', '3975', '283489', '55352', '7126', '27339', '27248', '222484', '23291', '54764', '8651', '3304', '23299', '8539', '808', '5928', '8649', '25923', '64398', '85365', '5606', '79133', '4282', '6905', '4067', '8867', '1198', '2277', '3661', '10444', '7050', '9727', '158', '4650', '11091', '51548', '57154', '3643', '4353', '6548', '491', '55614', '10972', '25865', '23326', '3357', '1997', '402', '728', '2648', '9444', '9040', '2353', '128', '3849', '25932', '79872', '5774', '3714', '9670', '1512', '1906', '4771', '4478', '6283', '9146', '10755', '64130', '5052', '4294', '7094', '9810', '4725', '5594', '5154', '9821', '165140', '394', '51433', '8464', '2308', '5371', '79736', '8394', '9448', '23424', '7175', '818', '5663', '392', '7266', '8370', '8604', '4651', '9070', '92140', '56254', '22933', '23390', '7071', '9217', '4831', '10892', '8362', '23512', '5788', '2081', '4659', '9367', '553115', '5801', '65981', '5213', '1857', '8445', '6280', '6015', '9693', '10273', '10111', '842', '2033', '1642', '2914', '9219', '8476', '54840', '10542', '27032', '5290', '1643', '9253', '57403', '5978', '623', '93649', '182', '51529', '84447', '27252', '7852', '11040', '10174', '6500', '5530', '7325', '54926', '23028', '3516', '1454', '3727', '664', '403', '4791', '8493', '6002', '57325', '55160', '51564', '5747', '8525', '9683', '27242', '3572', '57708', '54496', '51256', '10013', '5451', '5682', '57104', '23189', '84919', '3064', '6502', '1054', '10296', '4486', '8092', '8611', '8546', '7525', '196', '3728', '2752', '26520', '4221', '56993', '51231', '10628', '1001', '5692', '60682', '3329', '9564', '81847', '5310', '23129', '43', '2934', '3280', '2782', '1984', '6609', '129138', '9353', '1967', '632', '4534', '4720', '6513', '9076', '11120', '5333', '9611', '7040', '5829', '23787', '2739', '81858', '85458', '10801', '3720', '284110', '80381', '7161', '10163', '9757', '8907', '8078', '10116', '9572', '9464', '25999', '55366', '23310', '55650', '4609', '3557', '604', '5062', '11188', '6809', '311', '51065', '5140', '80005', '1969', '9546', '57120', '10316', '2645', '4194', '4090', '2805', '6646', '975', '8607', '408', '10626', '7818', '5292', '5516', '1441', '83695', '10494', '10783', '26191', '2186', '3689', '3340', '595', '7186', '1613', '1130', '9220', '8915', '6599', '5599', '5693', '23348', '6102', '1798', '3265', '5494', '112869', '3687', '11218', '3931', '388', '4214', '23011', '2778', '6237', '80314', '2185', '5879', '2730', '2309', '57045', '10152', '1616', '246184', '9616', '8697', '91404', '150094', '5601', '51141', '29844', '5442', '3397', '4035', '55832', '27086', '1880', '5595', '2202', '539', '6886', '9262', '8036', '598', '4710', '55236', '48', '147912', '5818', '3958', '26297', '1536', '4781', '4088', '23741', '6903', '55669', '7026', '7327', '26258', '4891', '3108', '3257', '4681', '7844', '208', '1292', '5496', '6208', '10939', '2896', '10818', '972', '2624', '7168', '9368', '115426', '5286', '3148', '30827', '54583', '23212', '3092', '57448', '51454', '4860', '9213', '3949', '2921', '210', '25813', '2068', '2118', '3576', '5568', '10758', '57447', '9846', '57396', '1278', '31', '116113', '83547', '2059', '9531', '617', '3163', '58190', '80267', '23406', '10629', '2049', '405', '324', '5538', '9577', '57630', '56246', '23534', '9867', '123879', '6732', '5108', '4077', '6256', '10051', '3638', '5525', '2539', '9619', '7763', '84759', '4644', '5287', '1289', '6461', '5515', '4303', '84876', '5720', '29116', '8473', '7295', '85476', '6714', '87178', '92610', '51562', '5423', '54927', '26469', '5147', '84231', '3276', '149428', '25836', '10399', '5660', '9935', '6733', '871', '201595', '55958', '7832', '1051', '64216', '328', '25970', '118', '23338', '10766', '10437', '4724', '8454', '5828', '23075', '3171', '10460', '6093', '10928', '473', '23636', '7100', '56655', '1840', '1490', '1017', '2281', '2074', '51763', '1845', '79888', '8363', '83852', '1196', '540', '10325', '54431', '472', '23392', '11342', '1475', '11143', '7941', '142678', '26060', '22937', '1524', '1893', '5701', '5781', '10370', '7270', '51720', '5795', '56829', '8294', '22900', '25939', '83605', '5130', '3491', '3726', '7319', '6498', '8322', '84079', '7472', '23287', '10221', '3073', '6601', '92609', '7862', '2139', '7070', '4089', '5300', '998', '5621', '7105', '1965', '8763', '22919', '23191', '8795', '2280', '8986', '6453', '4283', '8754', '24145', '60436', '23568', '11124', '23327', '2073', '54708', '3066', '2542', '79139', '3672', '4048', '5499', '32', '6223', '6907', '27113', '54929', '23580', '9927', '6929', '10672', '6794', '8775', '130507', '2072', '399', '4247', '4734', '11051', '79595', '661', '5768', '23043', '26286', '949', '9270', '284', '1728', '8893', '5830', '8741', '554313', '57826', '6418', '5696', '2316', '81929', '4205', '4361', '55904', '8767', '5930', '7077', '54778', '5906', '7786', '27352', '130557', '1385', '23624', '54434', '90', '26119', '2947', '80331', '5585', '1603', '3029', '5868', '7915', '54476', '8930', '10908', '3202', '10155', '1991', '6934', '9695', '7444', '2591', '56950', '23394', '84159', '1848', '10670', '7917', '23139', '7178', '8658', '1027', '7376', '26133', '85440', '4700', '2876', '1499', '7171', '5929', '387893', '154796', '8727', '9950', '27141', '255488', '8943', '396', '121504', '9500', '79576', '5916', '6879', '25855', '128239', '55109', '10987', '7415', '81559', '5780', '22894', '51330', '5195', '79753', '8239', '11326', '6310', '8367', '6778', '54344', '80351', '4216', '149041', '9655', '2941', '84168', '10342', '10188', '2932', '79813', '23081', '207', '79058', '8411', '5914', '64215', '9918', '79594', '5413', '5211', '7001', '5048', '567', '10919', '79155', '9910', '63924', '54205', '148281', '55154', '83439', '9903', '7326', '55500', '801', '4437', '59277', '3675', '2212', '26058', '5862', '5654', '51079', '387', '22955', '10413', '8985', '80829', '4059', '11343', '2962', '10213', '4436', '93100', '100', '3383', '22985', '8301', '3684', '51067', '81576', '9181', '57060', '79960', '23414', '23765', '10270', '5045', '51752', '6850', '5443', '55696', '64112', '2321', '9612', '7430', '4629', '10459', '4292', '6095', '662', '1432', '6182', '84883', '996', '2065', '1386', '25998', '51599', '3845', '9255', '80856', '23175', '997', '1365', '6880', '7132']\n"
     ]
    }
   ],
   "source": [
    "print(nodelist)"
   ]
  },
  {
   "cell_type": "code",
   "execution_count": 1285,
   "metadata": {},
   "outputs": [
    {
     "data": {
      "text/plain": [
       "numpy.ndarray"
      ]
     },
     "execution_count": 1285,
     "metadata": {},
     "output_type": "execute_result"
    }
   ],
   "source": [
    "infile = open(\"C:\\\\Users\\\\320052308\\\\minorproject\\\\blood-data-ohmnet\\\\edgelists\\\\n_neutrophil.txt\", 'r')\n",
    "\n",
    "edgelist = []\n",
    "for line in infile:\n",
    "    edge1 = line.split()\n",
    "    #print(edge1)\n",
    "    edge1[0] = node2id(edge1[0])\n",
    "    edge1[1] = node2id(edge1[1])\n",
    "    edgelist.append(edge1)\n",
    "    \n",
    "edgematrix = np.stack(edgelist)\n",
    "          \n",
    "type(edgematrix)\n"
   ]
  },
  {
   "cell_type": "code",
   "execution_count": 1286,
   "metadata": {},
   "outputs": [
    {
     "name": "stdout",
     "output_type": "stream",
     "text": [
      "26340\n"
     ]
    }
   ],
   "source": [
    "train_split= 0.6*(len(edgematrix))\n",
    "train_split = int(train_split)\n",
    "\n",
    "test_split = 0.3*(len(edgematrix))\n",
    "test_split = int(test_split)\n",
    "\n",
    "val_split = 0.1*(len(edgematrix))\n",
    "val_split = int(val_split)\n",
    "\n",
    "print(test_split + train_split + val_split)\n"
   ]
  },
  {
   "cell_type": "code",
   "execution_count": 1287,
   "metadata": {},
   "outputs": [
    {
     "name": "stdout",
     "output_type": "stream",
     "text": [
      "[[   0    1]\n",
      " [   2    3]\n",
      " [   4    5]\n",
      " ...\n",
      " [1446  849]\n",
      " [1033 1923]\n",
      " [ 889 1132]]\n"
     ]
    }
   ],
   "source": [
    "train_edges_false = edgematrix[0:train_split]\n",
    "print(train_edges_false)"
   ]
  },
  {
   "cell_type": "code",
   "execution_count": 1288,
   "metadata": {},
   "outputs": [
    {
     "name": "stdout",
     "output_type": "stream",
     "text": [
      "[[ 513 1016]\n",
      " [2018  365]\n",
      " [1666 1931]\n",
      " ...\n",
      " [2019 1241]\n",
      " [1716 1728]\n",
      " [ 418 1002]]\n"
     ]
    }
   ],
   "source": [
    "test_edges_false = edgematrix[train_split:train_split + test_split]\n",
    "print(test_edges_false)"
   ]
  },
  {
   "cell_type": "code",
   "execution_count": 1289,
   "metadata": {},
   "outputs": [
    {
     "name": "stdout",
     "output_type": "stream",
     "text": [
      "[[1712   21]\n",
      " [1105 1385]\n",
      " [1457  443]\n",
      " ...\n",
      " [ 393 1125]\n",
      " [1891  411]\n",
      " [1724 1399]]\n"
     ]
    }
   ],
   "source": [
    "val_edges_false = edgematrix[train_split + test_split:train_split + test_split + val_split]\n",
    "print(val_edges_false)"
   ]
  },
  {
   "cell_type": "code",
   "execution_count": 1290,
   "metadata": {},
   "outputs": [
    {
     "name": "stdout",
     "output_type": "stream",
     "text": [
      "15804\n",
      "7902\n",
      "2634\n",
      "26340\n"
     ]
    }
   ],
   "source": [
    "print(len(train_edges_false))\n",
    "print(len(test_edges_false))\n",
    "print(len(val_edges_false))\n",
    "print(len(train_edges_false) + len(test_edges_false) + len(val_edges_false))"
   ]
  },
  {
   "cell_type": "code",
   "execution_count": 1291,
   "metadata": {},
   "outputs": [],
   "source": [
    "# Generate bootstrapped edge embeddings (as is done in node2vec paper)\n",
    "    # Edge embedding for (v1, v2) = hadamard product of node embeddings for v1, v2\n",
    "def get_edge_embeddings(edge_list):\n",
    "    embs = []\n",
    "    for edge in edge_list:\n",
    "        node1 = edge[0]\n",
    "        node2 = edge[1]\n",
    "        emb1 = embedding_matrix4[node1]\n",
    "        emb2 = embedding_matrix4[node2]\n",
    "        edge_emb = np.multiply(emb1, emb2)\n",
    "        embs.append(edge_emb)\n",
    "    embs = np.array(embs)\n",
    "    return embs"
   ]
  },
  {
   "cell_type": "code",
   "execution_count": 1292,
   "metadata": {},
   "outputs": [],
   "source": [
    "# Train-set edge embeddings\n",
    "pos_train_edge_embs = get_edge_embeddings(train_edges)\n",
    "neg_train_edge_embs = get_edge_embeddings(train_edges_false)\n",
    "train_edge_embs = np.concatenate([pos_train_edge_embs, neg_train_edge_embs])\n",
    "\n",
    "# Create train-set edge labels: 1 = real edge, 0 = false edge\n",
    "train_edge_labels = np.concatenate([np.ones(len(train_edges)), np.zeros(len(train_edges_false))])\n",
    "\n",
    "# Val-set edge embeddings, labels\n",
    "pos_val_edge_embs = get_edge_embeddings(val_edges)\n",
    "neg_val_edge_embs = get_edge_embeddings(val_edges_false)\n",
    "val_edge_embs = np.concatenate([pos_val_edge_embs, neg_val_edge_embs])\n",
    "val_edge_labels = np.concatenate([np.ones(len(val_edges)), np.zeros(len(val_edges_false))])\n",
    "\n",
    "# Test-set edge embeddings, labels\n",
    "pos_test_edge_embs = get_edge_embeddings(test_edges)\n",
    "neg_test_edge_embs = get_edge_embeddings(test_edges_false)\n",
    "test_edge_embs = np.concatenate([pos_test_edge_embs, neg_test_edge_embs])\n",
    "\n",
    "# Create val-set edge labels: 1 = real edge, 0 = false edge\n",
    "test_edge_labels = np.concatenate([np.ones(len(test_edges)), np.zeros(len(test_edges_false))])"
   ]
  },
  {
   "cell_type": "code",
   "execution_count": 1293,
   "metadata": {},
   "outputs": [],
   "source": [
    "from sklearn.metrics import roc_auc_score\n",
    "from sklearn.metrics import average_precision_score"
   ]
  },
  {
   "cell_type": "code",
   "execution_count": 1294,
   "metadata": {},
   "outputs": [
    {
     "name": "stderr",
     "output_type": "stream",
     "text": [
      "C:\\Users\\320052308\\AppData\\Local\\Continuum\\anaconda3\\lib\\site-packages\\sklearn\\linear_model\\logistic.py:433: FutureWarning: Default solver will be changed to 'lbfgs' in 0.22. Specify a solver to silence this warning.\n",
      "  FutureWarning)\n"
     ]
    },
    {
     "data": {
      "text/plain": [
       "LogisticRegression(C=1.0, class_weight=None, dual=False, fit_intercept=True,\n",
       "          intercept_scaling=1, max_iter=100, multi_class='warn',\n",
       "          n_jobs=None, penalty='l2', random_state=0, solver='warn',\n",
       "          tol=0.0001, verbose=0, warm_start=False)"
      ]
     },
     "execution_count": 1294,
     "metadata": {},
     "output_type": "execute_result"
    }
   ],
   "source": [
    "# Train logistic regression classifier on train-set edge embeddings\n",
    "from sklearn.linear_model import LogisticRegression\n",
    "edge_classifier = LogisticRegression(random_state=0)\n",
    "edge_classifier.fit(train_edge_embs, train_edge_labels)"
   ]
  },
  {
   "cell_type": "code",
   "execution_count": 1295,
   "metadata": {},
   "outputs": [],
   "source": [
    "# Predicted edge scores: probability of being of class \"1\" (real edge)\n",
    "val_preds = edge_classifier.predict_proba(val_edge_embs)[:, 1]\n",
    "val_roc = roc_auc_score(val_edge_labels, val_preds)\n",
    "val_ap = average_precision_score(val_edge_labels, val_preds)"
   ]
  },
  {
   "cell_type": "code",
   "execution_count": 1296,
   "metadata": {},
   "outputs": [],
   "source": [
    "# Predicted edge scores: probability of being of class \"1\" (real edge)\n",
    "test_preds = edge_classifier.predict_proba(test_edge_embs)[:, 1]\n",
    "test_roc = roc_auc_score(test_edge_labels, test_preds)\n",
    "test_ap = average_precision_score(test_edge_labels, test_preds)"
   ]
  },
  {
   "cell_type": "code",
   "execution_count": 1297,
   "metadata": {},
   "outputs": [
    {
     "name": "stdout",
     "output_type": "stream",
     "text": [
      "ohmnet_blood_platelet Validation ROC score:  0.9060110787672911\n",
      "ohmnet_blood_platelet Validation AP score:  0.9005708580618164\n",
      "ohmnet_blood_platelet Test ROC score:  0.9070850342025167\n",
      "ohmnet_blood_platelet Test AP score:  0.9010824505216987\n"
     ]
    }
   ],
   "source": [
    "print ('ohmnet_blood_platelet Validation ROC score: ', str(val_roc))\n",
    "print ('ohmnet_blood_platelet Validation AP score: ', str(val_ap))\n",
    "print ('ohmnet_blood_platelet Test ROC score: ', str(test_roc))\n",
    "print ('ohmnet_blood_platelet Test AP score: ', str(test_ap))"
   ]
  },
  {
   "cell_type": "code",
   "execution_count": null,
   "metadata": {},
   "outputs": [],
   "source": []
  },
  {
   "cell_type": "code",
   "execution_count": null,
   "metadata": {},
   "outputs": [],
   "source": []
  },
  {
   "cell_type": "code",
   "execution_count": null,
   "metadata": {},
   "outputs": [],
   "source": []
  },
  {
   "cell_type": "code",
   "execution_count": null,
   "metadata": {},
   "outputs": [],
   "source": []
  }
 ],
 "metadata": {
  "kernelspec": {
   "display_name": "Python 3",
   "language": "python",
   "name": "python3"
  },
  "language_info": {
   "codemirror_mode": {
    "name": "ipython",
    "version": 3
   },
   "file_extension": ".py",
   "mimetype": "text/x-python",
   "name": "python",
   "nbconvert_exporter": "python",
   "pygments_lexer": "ipython3",
   "version": "3.7.1"
  }
 },
 "nbformat": 4,
 "nbformat_minor": 2
}
